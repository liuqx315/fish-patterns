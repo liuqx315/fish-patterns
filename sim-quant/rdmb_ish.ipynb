{
 "cells": [
  {
   "cell_type": "markdown",
   "metadata": {},
   "source": [
    "# RD sim on metaballs (in silico hybridization)\n",
    "### white spot (20) x black spot (20) = 400 ISHs"
   ]
  },
  {
   "cell_type": "code",
   "execution_count": null,
   "metadata": {},
   "outputs": [],
   "source": [
    "%load_ext autoreload\n",
    "%autoreload 1\n",
    "\n",
    "import os\n",
    "import itertools\n",
    "\n",
    "from joblib import Parallel, delayed\n",
    "from PIL import Image\n",
    "import pandas as pd\n",
    "import matplotlib.pyplot as plt\n",
    "\n",
    "from rdmb import *\n",
    "from quant import *\n",
    "%aimport rdmb, quant\n",
    "\n",
    "%matplotlib inline"
   ]
  },
  {
   "cell_type": "markdown",
   "metadata": {},
   "source": [
    "### Parents selection (white-spotted and black-spotted)"
   ]
  },
  {
   "cell_type": "code",
   "execution_count": null,
   "metadata": {},
   "outputs": [],
   "source": [
    "df_uni = pd.read_csv(\"uni.csv\", index_col=0)\n",
    "df_p = df_uni[(df_uni.lightness > 0.0) & (df_uni.lightness < 1.0)]\n",
    "\n",
    "df_p.reset_index(drop=True).to_csv(\"uni_p.csv\")\n",
    "\n",
    "df_p.head()"
   ]
  },
  {
   "cell_type": "code",
   "execution_count": null,
   "metadata": {},
   "outputs": [],
   "source": [
    "fig = plt.figure(figsize=(10, 5))\n",
    "plt.subplot(1, 2, 1)\n",
    "plt.scatter(x=df_p['C'], y=df_p['A'], color=\"skyblue\")\n",
    "plt.ylim(0.065, 0.145)\n",
    "plt.xlabel(\"param C\")\n",
    "plt.ylabel(\"param A\")\n",
    "plt.subplot(1, 2, 2)\n",
    "plt.imshow(Image.open(\"rd2d_mat_AC_A0.14-0.07_C-0.1-0.4.jpg\"), cmap=\"gray\")\n",
    "plt.axis('off')\n",
    "plt.show()"
   ]
  },
  {
   "cell_type": "code",
   "execution_count": null,
   "metadata": {},
   "outputs": [],
   "source": [
    "df_p_ws = df_p[(df_p.complexity < 0.4)\n",
    "               & (df_p.lightness < 0.4)\n",
    "               & (df_p.lightness > 0.03)]\n",
    "df_p_bs = df_p[(df_p.complexity < 0.4)\n",
    "               & (df_p.lightness > 0.6)\n",
    "               & (df_p.lightness < 0.97)]\n",
    "print(\"Number of candidates for\")\n",
    "print(\"    white-spotted parents:\", len(df_p_ws))\n",
    "print(\"    black-spotted parents:\", len(df_p_bs))"
   ]
  },
  {
   "cell_type": "code",
   "execution_count": null,
   "metadata": {},
   "outputs": [],
   "source": [
    "fig = plt.figure(figsize=(6, 6))\n",
    "plt.ylim(0.065, 0.145)\n",
    "plt.scatter(x=df_p['C'], y=df_p['A'], color=\"skyblue\")\n",
    "plt.scatter(x=df_p_ws['C'], y=df_p_ws['A'], color=\"orange\")\n",
    "plt.scatter(x=df_p_bs['C'], y=df_p_bs['A'], color=\"green\")\n",
    "plt.show()"
   ]
  },
  {
   "cell_type": "code",
   "execution_count": null,
   "metadata": {},
   "outputs": [],
   "source": [
    "np.random.seed(42)\n",
    "\n",
    "# select 20 parents each\n",
    "df_p_ws20 = df_p_ws.sample(20)\n",
    "df_p_bs20 = df_p_bs.sample(20)\n",
    "\n",
    "# subsets for figure\n",
    "df_p_ws10 = df_p_ws20.sample(10)\n",
    "df_p_bs10 = df_p_bs20.sample(10)"
   ]
  },
  {
   "cell_type": "code",
   "execution_count": null,
   "metadata": {},
   "outputs": [],
   "source": [
    "fig = plt.figure(figsize=(6, 6))\n",
    "plt.ylim(0.065, 0.145)\n",
    "\n",
    "plt.scatter(x=df_p['C'], y=df_p['A'], color=\"skyblue\")\n",
    "\n",
    "plt.scatter(x=df_p_ws20['C'], y=df_p_ws20['A'], s=120, color=\"orange\", alpha=0.2)\n",
    "plt.scatter(x=df_p_bs20['C'], y=df_p_bs20['A'], s=120, color=\"green\", alpha=0.2)\n",
    "\n",
    "plt.scatter(x=df_p_ws10['C'], y=df_p_ws10['A'], color=\"orange\")\n",
    "plt.scatter(x=df_p_bs10['C'], y=df_p_bs10['A'], color=\"green\")\n",
    "\n",
    "plt.show()"
   ]
  },
  {
   "cell_type": "markdown",
   "metadata": {},
   "source": [
    "### RD calculation for in silico hybrids"
   ]
  },
  {
   "cell_type": "code",
   "execution_count": null,
   "metadata": {},
   "outputs": [],
   "source": [
    "def run_rdmb_grad_AC(fnbase, out_dir, ACs):\n",
    "    \n",
    "    mb_obj_file = \"mbobj/mb_hq.obj.gz\"\n",
    "\n",
    "    As = ACs[0]\n",
    "    Cs = ACs[1]\n",
    "\n",
    "    out_file_base = (out_dir + \"/\" + fnbase\n",
    "                     + \"_hq_A{:.4f}_C{:.3f}-A{:.4f}_C{:.3f}\"\n",
    "                     .format(As[0], Cs[0], As[1], Cs[1]))\n",
    "    \n",
    "    rdmb.rdmb_grad_AC(mb_obj_file,\n",
    "                      out_file_base,\n",
    "                      px0=-1.6, px1=1.6,\n",
    "                      pa0=As[0], pa1=As[1],\n",
    "                      pc0=Cs[0], pc1=Cs[1],\n",
    "                      max_ite=2000)\n",
    "\n",
    "    return out_file_base"
   ]
  },
  {
   "cell_type": "code",
   "execution_count": null,
   "metadata": {},
   "outputs": [],
   "source": [
    "%%time\n",
    "\n",
    "fnbase = \"ws20-bs20\"\n",
    "out_dir = \"rd_out/ish\"\n",
    "\n",
    "try:\n",
    "    os.makedirs(\"./\"+out_dir)\n",
    "except FileExistsError:\n",
    "    pass\n",
    "\n",
    "np.random.seed(42)\n",
    "\n",
    "df_p_ws20_sort = df_p_ws20.sort_values('A', ascending=False)\n",
    "df_p_bs20_sort = df_p_bs20.sort_values('A', ascending=False)\n",
    "\n",
    "wsAs = df_p_ws20_sort.A.values\n",
    "wsCs = df_p_ws20_sort.C.values\n",
    "\n",
    "bsAs = df_p_bs20_sort.A.values\n",
    "bsCs = df_p_bs20_sort.C.values\n",
    "\n",
    "Ass = itertools.product(wsAs, bsAs)\n",
    "Css = itertools.product(wsCs, bsCs)\n",
    "\n",
    "ish_fnbases = Parallel(n_jobs=36, verbose=1, max_nbytes=None)(\n",
    "                    [delayed(run_rdmb_grad_AC)(\n",
    "                        fnbase=fnbase,\n",
    "                        out_dir=out_dir,\n",
    "                        ACs=ACs)\n",
    "                     for ACs in zip(Ass, Css)])\n",
    "\n",
    "!slackpost.sh -m \"ish_rdmb おわったで～\""
   ]
  },
  {
   "cell_type": "markdown",
   "metadata": {},
   "source": [
    "### Rendering for quantification"
   ]
  },
  {
   "cell_type": "code",
   "execution_count": null,
   "metadata": {},
   "outputs": [],
   "source": [
    "pngfnames_q = Parallel(n_jobs=36, verbose=1, max_nbytes=None)(\n",
    "                    [delayed(rdmb.rdmb_povray_q)(ish_fnbase,\n",
    "                                                 time_point=2000,\n",
    "                                                 width=400,\n",
    "                                                 height=200,\n",
    "                                                 angle=10)\n",
    "                     for ish_fnbase in ish_fnbases])"
   ]
  },
  {
   "cell_type": "code",
   "execution_count": null,
   "metadata": {},
   "outputs": [],
   "source": [
    "display(Image.open(pngfnames_q[197]))"
   ]
  },
  {
   "cell_type": "markdown",
   "metadata": {},
   "source": [
    "### Quantification"
   ]
  },
  {
   "cell_type": "code",
   "execution_count": null,
   "metadata": {},
   "outputs": [],
   "source": [
    "imgs = [Image.open(pngfname_q) for pngfname_q in pngfnames_q]\n",
    "imgs_crop_scale = [quant.crop_center(img, 128, 128)\n",
    "                   .convert('L')\n",
    "                   .resize((420, 420), resample=Image.LANCZOS)\n",
    "                   for img in imgs]\n",
    "imgs_mono = [quant.binarize(np.asarray(img))\n",
    "             for img in imgs_crop_scale]\n",
    "\n",
    "Ls = np.array([quant.quant(img)[0] for img in imgs_mono])\n",
    "PCSs = np.array([quant.quant(img)[1] for img in imgs_mono])\n",
    "\n",
    "df_ish = pd.DataFrame(np.c_[ish_fnbases,\n",
    "                            pngfnames_q,\n",
    "                            Ls,\n",
    "                            PCSs],\n",
    "                      columns=[\"file_base\",\n",
    "                               \"png_file_q\",\n",
    "                               \"lightness\",\n",
    "                               \"complexity\"])\n",
    "df_ish.to_csv(\"ish.csv\")"
   ]
  },
  {
   "cell_type": "code",
   "execution_count": null,
   "metadata": {},
   "outputs": [],
   "source": [
    "df_ish.head()"
   ]
  },
  {
   "cell_type": "markdown",
   "metadata": {},
   "source": [
    "### Rendering for visualization"
   ]
  },
  {
   "cell_type": "code",
   "execution_count": null,
   "metadata": {},
   "outputs": [],
   "source": [
    "pngfnames_col = Parallel(n_jobs=20, verbose=1, max_nbytes=None)(\n",
    "                    [delayed(rdmb_povray_color)(ish_fnbase,\n",
    "                                                time_point=2000,\n",
    "                                                width=300,\n",
    "                                                height=300,\n",
    "                                                rotx=0, roty=0, rotz=45,\n",
    "                                                angle=8,\n",
    "                                                mode=\"AC\")\n",
    "                     for ish_fnbase in ish_fnbases])"
   ]
  },
  {
   "cell_type": "code",
   "execution_count": null,
   "metadata": {},
   "outputs": [],
   "source": [
    "display(Image.open(pngfnames_col[197]))"
   ]
  },
  {
   "cell_type": "code",
   "execution_count": null,
   "metadata": {},
   "outputs": [],
   "source": [
    "ws20_pngfnames = [file_base+\"_color_02000.png\"\n",
    "                  for file_base in df_p_ws20_sort.file_base.values]\n",
    "bs20_pngfnames = [file_base+\"_color_02000.png\"\n",
    "                  for file_base in df_p_bs20_sort.file_base.values]"
   ]
  },
  {
   "cell_type": "code",
   "execution_count": null,
   "metadata": {},
   "outputs": [],
   "source": [
    "ijmax=20\n",
    "\n",
    "img = Image.new('RGBA', (280*ijmax+320, 280*ijmax+320), color='white')\n",
    "\n",
    "for i in range(ijmax):\n",
    "    im = Image.open(ws20_pngfnames[i])\n",
    "    img.paste(im, (0, 120+280*(i+1)), mask=im)\n",
    "    im = Image.open(bs20_pngfnames[i])\n",
    "    img.paste(im, (130+280*(i+1), 0), mask=im)\n",
    "    \n",
    "    for j in range(ijmax):\n",
    "        im = Image.open(pngfnames_col[i*ijmax+j])\n",
    "        img.paste(im, (280*j+260, 280*i+260), mask=im)\n",
    "        \n",
    "img.convert(mode=\"RGB\").save(\"ish_20x20.jpg\", quality=95)\n",
    "display(img.resize((800, 800), Image.LANCZOS))"
   ]
  },
  {
   "cell_type": "markdown",
   "metadata": {},
   "source": [
    "### subset (10x10)"
   ]
  },
  {
   "cell_type": "code",
   "execution_count": null,
   "metadata": {},
   "outputs": [],
   "source": [
    "ws10s, = np.where(np.isin(df_p_ws20_sort.index.values,\n",
    "                          df_p_ws10.index.values))\n",
    "bs10s, = np.where(np.isin(df_p_bs20_sort.index.values,\n",
    "                          df_p_bs10.index.values))\n",
    "print(ws10s)\n",
    "print(bs10s)"
   ]
  },
  {
   "cell_type": "code",
   "execution_count": null,
   "metadata": {},
   "outputs": [],
   "source": [
    "img = Image.new('RGBA', (280*10+320, 280*10+320))\n",
    "\n",
    "for i, wi in enumerate(ws10s):\n",
    "    im = Image.open(ws20_pngfnames[wi])\n",
    "    img.paste(im, (0, 120+280*(i+1)), mask=im)\n",
    "for j, bj in enumerate(bs10s):\n",
    "    im = Image.open(bs20_pngfnames[bj])\n",
    "    img.paste(im, (130+280*(j+1), 0), mask=im)\n",
    "    \n",
    "for i, wi in enumerate(ws10s):\n",
    "    for j, bj in enumerate(bs10s):\n",
    "        im = Image.open(pngfnames_col[wi*20+bj])\n",
    "        img.paste(im, (280*j+260, 280*i+260), mask=im)\n",
    "        \n",
    "img.convert(mode=\"RGBA\").save(\"ish_10x10.png\")\n",
    "\n",
    "display(img.resize((800, 800), Image.LANCZOS))"
   ]
  },
  {
   "cell_type": "code",
   "execution_count": null,
   "metadata": {},
   "outputs": [],
   "source": [
    "import seaborn as sns\n",
    "\n",
    "sns.set_context('talk')\n",
    "\n",
    "x, y = np.meshgrid(\n",
    "    np.linspace(0, 1, 100),\n",
    "    np.linspace(0, 1, 100),\n",
    ")\n",
    "\n",
    "A = np.linspace(0.07, 0.12, num=100)\n",
    "C = np.linspace(-0.1, 0.31, num=100)\n",
    "\n",
    "nA = (A-0.07)/(0.12-0.07)\n",
    "nC = (C+0.1)/(0.31+0.1)\n",
    "    \n",
    "fig = plt.figure(figsize=(3, 3))\n",
    "\n",
    "plt.imshow(\n",
    "    np.dstack((y, np.zeros_like(x), x)),\n",
    "    extent = (\n",
    "        np.min(C), np.max(C),\n",
    "        np.min(A), np.max(A),\n",
    "    ),\n",
    "    aspect = 'auto',\n",
    "    origin = 'lower',\n",
    ")\n",
    "plt.xticks([0, 0.1, 0.2, 0.3])\n",
    "plt.yticks([0.08, 0.10, 0.12])\n",
    "\n",
    "plt.xlabel('Parameter $\\it{C}$', fontsize=20)\n",
    "plt.ylabel('Parameter $\\it{A}$', fontsize=20)\n",
    "\n",
    "plt.savefig(\"colorbar_2D.pdf\")\n",
    "\n",
    "plt.show()"
   ]
  },
  {
   "cell_type": "code",
   "execution_count": null,
   "metadata": {},
   "outputs": [],
   "source": []
  }
 ],
 "metadata": {
  "kernelspec": {
   "display_name": "Python 3",
   "language": "python",
   "name": "python3"
  },
  "language_info": {
   "codemirror_mode": {
    "name": "ipython",
    "version": 3
   },
   "file_extension": ".py",
   "mimetype": "text/x-python",
   "name": "python",
   "nbconvert_exporter": "python",
   "pygments_lexer": "ipython3",
   "version": "3.6.7"
  }
 },
 "nbformat": 4,
 "nbformat_minor": 2
}
