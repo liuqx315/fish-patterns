{
 "cells": [
  {
   "cell_type": "markdown",
   "metadata": {},
   "source": [
    "### Response to Reviews\n",
    "## Comparison of quantificaiton methods"
   ]
  },
  {
   "cell_type": "code",
   "execution_count": null,
   "metadata": {},
   "outputs": [],
   "source": [
    "version"
   ]
  },
  {
   "cell_type": "code",
   "execution_count": null,
   "metadata": {},
   "outputs": [],
   "source": [
    "library(tidyverse)\n",
    "library(ggpubr)\n",
    "library(circular)\n",
    "\n",
    "packageVersion(\"tidyverse\")\n",
    "packageVersion(\"ggpubr\")\n",
    "packageVersion(\"circular\")"
   ]
  },
  {
   "cell_type": "code",
   "execution_count": null,
   "metadata": {},
   "outputs": [],
   "source": [
    "# scientific notation\n",
    "# https://stats.biopapyrus.jp/r/ggplot/scientific-notation.html\n",
    "# https://stackoverflow.com/questions/11610377/how-do-i-change-the-formatting-of-numbers-on-an-axis-with-ggplot\n",
    "\n",
    "scientific_notation <- function(x) {\n",
    "     x <- format(x, scientific = TRUE)\n",
    "     x <- gsub(\"0e\\\\+00\", \"0\", x)\n",
    "     x <- gsub(\"^(.*)e\", \"'\\\\1'e\", x)\n",
    "     x <- gsub(\"e\", \"%*%10^\", x)\n",
    "     x <- gsub('\\\\+', '', x)\n",
    "     parse(text = x)\n",
    "}"
   ]
  },
  {
   "cell_type": "code",
   "execution_count": null,
   "metadata": {},
   "outputs": [],
   "source": []
  },
  {
   "cell_type": "code",
   "execution_count": null,
   "metadata": {},
   "outputs": [],
   "source": [
    "df <- read_csv(\"uni_q.csv\", col_types = \"icdd\")\n",
    "df <- df %>%\n",
    "    mutate(pattern = (X1 %/% 8) + 1) %>%\n",
    "    mutate(filebase = str_c(str_sub(png_file_q, end = -5), \"_crop_scale\")) %>%\n",
    "    select(c(pattern, filebase, lightness, complexity))"
   ]
  },
  {
   "cell_type": "markdown",
   "metadata": {},
   "source": [
    "### Quantification using PAT-GEOM, Chan et al. (2019)\n",
    "Chan et al. (2019) PAT-GEOM: A software package for the analysis of animal patterns. Methods Ecol Evol 10:591–600. https://doi.org/10.1111/2041-210X.13131"
   ]
  },
  {
   "cell_type": "code",
   "execution_count": null,
   "metadata": {},
   "outputs": [],
   "source": [
    "df_patgeom <- read_csv(\"uni_q_reps_PAT-GEOM.csv\",\n",
    "                       col_types = \"icddddddddddddddddddddddddd\")"
   ]
  },
  {
   "cell_type": "code",
   "execution_count": null,
   "metadata": {},
   "outputs": [],
   "source": [
    "options(repr.plot.width = 6, repr.plot.height = 9)\n",
    "\n",
    "g_lightness <- df %>%\n",
    "    ggplot(aes(x = pattern, y = lightness, group = pattern)) +\n",
    "        geom_boxplot() +\n",
    "        coord_cartesian(ylim = c(0.0, 1.0)) +\n",
    "        labs(x = \"Pattern\", y = \"Lightness\")\n",
    "\n",
    "g_complexity <- df %>%\n",
    "    ggplot(aes(x = pattern, y = complexity, group = pattern)) +\n",
    "        geom_boxplot() +\n",
    "        coord_cartesian(ylim = c(0.0, 1.0)) +\n",
    "        labs(x = \"Pattern\", y = \"Complexity\")\n",
    "\n",
    "g_meanAngle <- df_patgeom %>%\n",
    "    ggplot(aes(x = pattern, y = meanAngle, group = pattern)) +\n",
    "        geom_boxplot() +\n",
    "        coord_cartesian(ylim = c(0.0, 180.0)) +\n",
    "        labs(x = \"Pattern\", y = \"Mean angle\") +\n",
    "        theme_light()\n",
    "\n",
    "g_meanAspectRatio <- df_patgeom %>%\n",
    "    ggplot(aes(x = pattern, y = meanAspectRatio, group = pattern)) +\n",
    "        geom_boxplot() +\n",
    "        coord_cartesian(ylim = c(1.0, 3.5)) +\n",
    "        labs(x = \"Pattern\", y = \"Mean aspect ratio\") +\n",
    "        theme_light()\n",
    "\n",
    "g_meanACS <- df_patgeom %>%\n",
    "    ggplot(aes(x = pattern, y = meanACS, group = pattern)) +\n",
    "        geom_boxplot() +\n",
    "        coord_cartesian(ylim = c(0.0, 300.0)) +\n",
    "        labs(x = \"Pattern\", y = \"Mean ACS\") +\n",
    "        theme_light()\n",
    "\n",
    "g_meanSqPx <- df_patgeom %>%\n",
    "    ggplot(aes(x = pattern, y = meanSqPx, group = pattern)) +\n",
    "        geom_boxplot() +\n",
    "        coord_cartesian(ylim = c(0.0, 11000.0)) +\n",
    "        scale_y_continuous(labels = scientific_notation) +\n",
    "        labs(x = \"Pattern\", y = \"Mean square pixels\") +\n",
    "        theme_light()\n",
    "\n",
    "g_randomness <- df_patgeom %>%\n",
    "    ggplot(aes(x = pattern, y = randomness, group = pattern)) +\n",
    "        geom_boxplot() + # + coord_cartesian(ylim = c(1500.0, 160000.0))\n",
    "        scale_y_continuous(labels = scientific_notation) +\n",
    "        labs(x = \"Pattern\", y = \"Randomness\") +\n",
    "        theme_light()\n"
   ]
  },
  {
   "cell_type": "code",
   "execution_count": null,
   "metadata": {
    "scrolled": true
   },
   "outputs": [],
   "source": [
    "pca <- df_patgeom %>%\n",
    "            select(EFD1:EFD20) %>%\n",
    "            prcomp(scale = T)\n",
    "\n",
    "df_pca <- as_tibble(pca$x) %>%\n",
    "                add_column(ptn = df_patgeom$pattern) %>%\n",
    "                mutate(pattern = case_when(ptn == 1 ~ \"1\",\n",
    "                                           ptn == 2 ~ \"2\",\n",
    "                                           ptn == 3 ~ \"3\",\n",
    "                                           ptn == 4 ~ \"4\",\n",
    "                                           ptn == 5 ~ \"5\")) %>%\n",
    "                mutate(pattern = fct_relevel(pattern,\n",
    "                               \"1\",\n",
    "                               \"2\",\n",
    "                               \"3\",\n",
    "                               \"4\",\n",
    "                               \"5\"))\n",
    "\n",
    "df_pca"
   ]
  },
  {
   "cell_type": "code",
   "execution_count": null,
   "metadata": {},
   "outputs": [],
   "source": [
    "options(repr.plot.width = 4, repr.plot.height = 3)\n",
    "\n",
    "palette_hex <- c('#ff6347',  # 1\n",
    "                 '#ff9d23',  # 2\n",
    "                 '#ffd700',  # 3\n",
    "                 '#9dc538',  # 4\n",
    "                 '#3cb371')  # 5\n",
    "\n",
    "g_EFA_PCA <- df_pca %>%\n",
    "    ggplot(aes(x = PC1, y = PC2)) +\n",
    "    geom_point(aes(color = pattern, fill = pattern, shape = pattern, stroke = pattern), size = 2) +\n",
    "    scale_color_manual(values = alpha(palette_hex, 0.8)) +\n",
    "    scale_fill_manual(values = alpha(palette_hex, 0.8)) +\n",
    "    scale_shape_manual(values = c(21, 24, 4, 24, 21)) +\n",
    "    scale_discrete_manual(aesthetics = \"stroke\", values = c(1, 1, 1.5, 1, 1)) +\n",
    "    labs(x = \"EFA-PC1\", y = \"EFA-PC2\",\n",
    "         color = \"Pattern\", fill = \"Pattern\", shape = \"Pattern\", stroke = \"Pattern\") +\n",
    "    theme_light() +\n",
    "    theme(legend.position = \"right\")\n",
    "    "
   ]
  },
  {
   "cell_type": "code",
   "execution_count": null,
   "metadata": {},
   "outputs": [],
   "source": [
    "options(repr.plot.width = 6, repr.plot.height = 9)\n",
    "\n",
    "plots <- ggarrange(g_lightness,\n",
    "                   g_complexity,\n",
    "                   g_meanAngle,\n",
    "                   g_meanAspectRatio,\n",
    "                   g_meanACS,\n",
    "                   g_meanSqPx,\n",
    "                   g_randomness,\n",
    "                   g_EFA_PCA,\n",
    "                   ncol = 2,\n",
    "                   nrow = 4,\n",
    "                   # common.legend = TRUE, legend = \"bottom\",\n",
    "                   labels = LETTERS)\n",
    "plots\n",
    "\n",
    "# plots %>%\n",
    "#     ggsave(file = \"uni_q_reps.pdf\", device=cairo_pdf, width = 6, height = 9)"
   ]
  },
  {
   "cell_type": "code",
   "execution_count": null,
   "metadata": {},
   "outputs": [],
   "source": []
  }
 ],
 "metadata": {
  "kernelspec": {
   "display_name": "R",
   "language": "R",
   "name": "ir"
  },
  "language_info": {
   "codemirror_mode": "r",
   "file_extension": ".r",
   "mimetype": "text/x-r-source",
   "name": "R",
   "pygments_lexer": "r",
   "version": "3.5.2"
  }
 },
 "nbformat": 4,
 "nbformat_minor": 2
}
