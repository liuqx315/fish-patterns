{
 "cells": [
  {
   "cell_type": "markdown",
   "metadata": {},
   "source": [
    "# Pattern quantification\n",
    "### *Arothron* species, RD model (uni, in silico hybrids)"
   ]
  },
  {
   "cell_type": "code",
   "execution_count": null,
   "metadata": {},
   "outputs": [],
   "source": [
    "%load_ext autoreload\n",
    "%autoreload 1\n",
    "\n",
    "import os\n",
    "\n",
    "import pandas as pd\n",
    "import matplotlib.pyplot as plt\n",
    "import seaborn as sns\n",
    "from PIL import Image\n",
    "\n",
    "from quant import *\n",
    "%aimport quant\n",
    "\n",
    "%matplotlib inline"
   ]
  },
  {
   "cell_type": "markdown",
   "metadata": {},
   "source": [
    "### Pattern quantification (*Arothron* species)"
   ]
  },
  {
   "cell_type": "code",
   "execution_count": null,
   "metadata": {},
   "outputs": [],
   "source": [
    "df_Aro = pd.read_csv(\"Aro.csv\", index_col=0)\n",
    "Ls = [quant.quant(np.asarray(Image.open(\"Aro/\"+id+\"_mono.png\")))[0]\n",
    "       for id in df_Aro.id]\n",
    "PCSs = [quant.quant(np.asarray(Image.open(\"Aro/\"+id+\"_mono.png\")))[1]\n",
    "       for id in df_Aro.id]\n",
    "\n",
    "df_Aro['lightness'] = Ls\n",
    "df_Aro['complexity'] = PCSs\n",
    "\n",
    "df_Aro.head()"
   ]
  },
  {
   "cell_type": "markdown",
   "metadata": {},
   "source": [
    "### RD model (sim_uni)"
   ]
  },
  {
   "cell_type": "code",
   "execution_count": null,
   "metadata": {},
   "outputs": [],
   "source": [
    "df_uni_p = pd.read_csv(\"uni_p.csv\", index_col=0)\n",
    "df_uni_p['id'] = ['uni_{:03d}'.format(i) for i in df_uni_p.index]\n",
    "df_uni_p['species'] = 'sim_uni'\n",
    "df_uni_p['specimen'] = [fb.split(\"/\")[2] for fb in df_uni_p.file_base]\n",
    "\n",
    "df_uni = df_uni_p[['id',\n",
    "                   'species',\n",
    "                   'specimen',\n",
    "                   'lightness',\n",
    "                   'complexity']]\n",
    "\n",
    "df_uni.head()"
   ]
  },
  {
   "cell_type": "markdown",
   "metadata": {},
   "source": [
    "### in silico hybrids (sim_ish)"
   ]
  },
  {
   "cell_type": "code",
   "execution_count": null,
   "metadata": {},
   "outputs": [],
   "source": [
    "df_ish = pd.read_csv(\"ish.csv\", index_col=0)\n",
    "df_ish['id'] = ['ish_{:03d}'.format(i) for i in df_ish.index]\n",
    "df_ish['species'] = 'sim_ish'\n",
    "df_ish['specimen'] = [fb.split(\"/\")[2] for fb in df_ish.file_base]\n",
    "\n",
    "df_ish = df_ish[['id',\n",
    "                 'species',\n",
    "                 'specimen',\n",
    "                 'lightness',\n",
    "                 'complexity']]\n",
    "df_ish.head()"
   ]
  },
  {
   "cell_type": "markdown",
   "metadata": {},
   "source": [
    "### Save to a csv file"
   ]
  },
  {
   "cell_type": "code",
   "execution_count": null,
   "metadata": {},
   "outputs": [],
   "source": [
    "df_all = pd.concat([df_Aro, df_uni, df_ish],\n",
    "                   ignore_index=True,\n",
    "                   sort=False)\n",
    "\n",
    "df_all.to_csv(\"Aro_uni_ish.csv\")"
   ]
  },
  {
   "cell_type": "markdown",
   "metadata": {},
   "source": [
    "### Plotting"
   ]
  },
  {
   "cell_type": "code",
   "execution_count": null,
   "metadata": {},
   "outputs": [],
   "source": [
    "df = pd.read_csv(\"Aro_uni_ish.csv\", index_col=0)\n",
    "df.iloc[[0, 1, 120, 121, 565, 566], :]"
   ]
  },
  {
   "cell_type": "code",
   "execution_count": null,
   "metadata": {},
   "outputs": [],
   "source": [
    "df['color']='black'\n",
    "\n",
    "cud_red='#FF2800'\n",
    "cud_yellow='#f0e442'  #'#FAF500'\n",
    "cud_green='#009E73'  #'#35A16B'\n",
    "cud_blue='#0072B2'  #'#0041FF'\n",
    "cud_skyblue='#66CCFF'\n",
    "cud_pink='#FF99A0'\n",
    "cud_orange='#FF9900'\n",
    "cud_purple='#9A0079'\n",
    "cud_brown='#663300'\n",
    "\n",
    "# gold='#FFD700'\n",
    "\n",
    "sns_deep_blue=sns.color_palette('deep').as_hex()[0]\n",
    "sns_deep_green=sns.color_palette('deep').as_hex()[2]\n",
    "sns_deep_red=sns.color_palette('deep').as_hex()[3]\n",
    "sns_deep_purple=sns.color_palette('deep').as_hex()[4]\n",
    "sns_deep_yellow=sns.color_palette('deep').as_hex()[8]\n",
    "sns_deep_lightblue=sns.color_palette('deep').as_hex()[9]\n",
    "\n",
    "sns_dark_yellow=sns.color_palette('dark').as_hex()[8]\n",
    "sns_bright_yellow=sns.color_palette('bright').as_hex()[8]\n",
    "\n",
    "df.loc[df['species']=='nig', ['color']] = sns_deep_blue\n",
    "df.loc[df['species']=='ste', ['color']] = sns_deep_green\n",
    "df.loc[df['species']=='map', ['color']] = sns_bright_yellow #'goldenrod'\n",
    "df.loc[df['species']=='car', ['color']] = 'seagreen'\n",
    "df.loc[df['species']=='mul', ['color']] = 'chocolate'\n",
    "df.loc[df['species']=='ret', ['color']] = 'orange'\n",
    "df.loc[df['species']=='fir', ['color']] = sns_deep_red\n",
    "df.loc[df['species']=='mel', ['color']] = sns_deep_purple\n",
    "df.loc[df['species']=='his', ['color']] = sns_deep_yellow\n",
    "\n",
    "df.loc[df['species']=='sim_uni', ['color']] = 'lightskyblue'"
   ]
  },
  {
   "cell_type": "code",
   "execution_count": null,
   "metadata": {},
   "outputs": [],
   "source": [
    "df_Aro = df[0: 120]\n",
    "df_uni = df[120: 565]\n",
    "df_ish = df[565:965]"
   ]
  },
  {
   "cell_type": "code",
   "execution_count": null,
   "metadata": {},
   "outputs": [],
   "source": [
    "sns.set('notebook')\n",
    "sns.set_style(\"ticks\")\n",
    "\n",
    "plt.figure(figsize=(18, 7))\n",
    "\n",
    "plt_sc = []\n",
    "\n",
    "sp_full = [\"hispidus\",\n",
    "           \"meleagris\",\n",
    "           \"firmamentum\",\n",
    "           \"reticularis\",\n",
    "           \"multilineatus\",\n",
    "           \"carduus\",\n",
    "           \"mappa\",\n",
    "           \"stellatus\",\n",
    "           \"nigropunctatus\"]\n",
    "\n",
    "with plt.style.context('seaborn-deep'):\n",
    "\n",
    "    plt_sc.append(plt.scatter(df_uni['lightness'],\n",
    "                              df_uni['complexity'],\n",
    "                              color=df_uni['color'],\n",
    "                              s=50,\n",
    "                              alpha=0.5,\n",
    "                              label=\"model\"))\n",
    "\n",
    "    numS = 200\n",
    "    for idx, sp in enumerate([\"his\",\n",
    "                              \"mel\",\n",
    "                              \"fir\",\n",
    "                              \"ret\",\n",
    "                              \"mul\",\n",
    "                              \"car\",\n",
    "                              \"map\",\n",
    "                              \"ste\",\n",
    "                              \"nig\"]):\n",
    "        df_sp=df[df['species']==sp]\n",
    "        # sci_name_label = \"$\\it{\"+sp+\"}$\"\n",
    "        # sci_name_label = \"$\\it{\"+sp_full[idx]+\"}$\"\n",
    "        sci_name_label = \"$\\it{\"+sp_full[idx]+\"}$ ($\\it{\"+sp+\")}$\"\n",
    "        \n",
    "        if ( sp==\"car\" or sp==\"mul\"):\n",
    "            plt_sc.append(plt.scatter(df_sp['lightness'],\n",
    "                                      df_sp['complexity'],\n",
    "                                      color=df_sp['color'],\n",
    "                                      marker=\"x\",\n",
    "                                      linewidth=7.0,\n",
    "                                      s=numS,\n",
    "                                      label=sci_name_label))\n",
    "\n",
    "        elif ( sp==\"map\" ):\n",
    "            plt_sc.append(plt.scatter(df_sp['lightness'],\n",
    "                                      df_sp['complexity'],\n",
    "                                      color=df_sp['color'],\n",
    "                                      marker=\"x\",\n",
    "                                      linewidth=7.0,\n",
    "                                      s=numS,\n",
    "                                      alpha=0.8,\n",
    "                                      label=sci_name_label))\n",
    "\n",
    "        elif ( sp==\"ste\" or sp==\"nig\" ):\n",
    "            plt_sc.append(plt.scatter(df_sp['lightness'],\n",
    "                                      df_sp['complexity'],\n",
    "                                      color=df_sp['color'],\n",
    "                                      marker=\"s\",\n",
    "                                      s=numS,\n",
    "                                      alpha=0.9,\n",
    "                                      label=sci_name_label))\n",
    "\n",
    "        elif ( sp==\"ret\" ):\n",
    "            plt_sc.append(plt.scatter(df_sp['lightness'],\n",
    "                                      df_sp['complexity'],\n",
    "                                      color=df_sp['color'],\n",
    "                                      marker=\"o\",\n",
    "                                      s=numS,\n",
    "                                      alpha=0.9,\n",
    "                                      label=sci_name_label))\n",
    "\n",
    "        else:\n",
    "            plt_sc.append(plt.scatter(df_sp['lightness'],\n",
    "                                      df_sp['complexity'],\n",
    "                                      color=df_sp['color'],\n",
    "                                      marker=\"o\",\n",
    "                                      s=numS,\n",
    "                                      alpha=0.9,\n",
    "                                      label=sci_name_label))\n",
    "            \n",
    "        plt_sc[idx].axes.set_xlim(-0.02, 1.05)\n",
    "        plt_sc[idx].axes.set_ylim(0.06, 1.02)\n",
    "        plt.xlabel(\"Overall color tone\", fontsize=28)\n",
    "        plt.ylabel(\"Pattern complexity\", fontsize=28)\n",
    "    \n",
    "    plt.tick_params(axis='both', which='major', labelsize=20)\n",
    "    \n",
    "    leg = plt.legend(bbox_to_anchor=(1.07, 0.5),\n",
    "                     loc='center left',\n",
    "                     ncol=1,\n",
    "                     frameon=False,\n",
    "                     fontsize=24)\n",
    "    \n",
    "    plt.tight_layout()\n",
    "\n",
    "    plt.show()\n",
    "    # plt.savefig(\"quant_scatter.pdf\", transparent = True)\n"
   ]
  },
  {
   "cell_type": "code",
   "execution_count": null,
   "metadata": {},
   "outputs": [],
   "source": [
    "df_Aro_ish = pd.concat([df_Aro, df_ish], sort=False)\n",
    "df_Aro_ish"
   ]
  },
  {
   "cell_type": "code",
   "execution_count": null,
   "metadata": {},
   "outputs": [],
   "source": [
    "sp_order = ['his',\n",
    "            'mel',\n",
    "            'fir',\n",
    "            'ret',\n",
    "            'mul',\n",
    "            'car',\n",
    "            'map',\n",
    "            'ste',\n",
    "            'nig',\n",
    "            'sim_ish']\n",
    "\n",
    "df_Aro_ish[\"species\"] = pd.Categorical(df_Aro_ish[\"species\"], sp_order)\n",
    "df_Aro_ish = df_Aro_ish.sort_values(by=[\"species\"])"
   ]
  },
  {
   "cell_type": "code",
   "execution_count": null,
   "metadata": {},
   "outputs": [],
   "source": [
    "sns.set('notebook')\n",
    "sns.set_style(\"ticks\")\n",
    "\n",
    "# sp_names = ['his',\n",
    "sp_labels = ['his',\n",
    "            'mel',\n",
    "            'fir',\n",
    "            'ret',\n",
    "            'mul',\n",
    "            'car',\n",
    "            'map',\n",
    "            'ste',\n",
    "            'nig',\n",
    "            'ISH']\n",
    "\n",
    "# sp_labels = []\n",
    "# for sn in sp_names[:-1]:\n",
    "#     sp_labels.append(\"$\\it{\"+sn+\"}$\")\n",
    "\n",
    "# sp_labels.append(sp_names[-1])\n",
    "\n",
    "colors = ['lightsteelblue',\n",
    "          'lightsteelblue',\n",
    "          'lightsteelblue',\n",
    "          'lightsteelblue',\n",
    "          'lightpink',\n",
    "          'lightpink',\n",
    "          'lightpink',\n",
    "          'lightsteelblue',\n",
    "          'lightsteelblue',\n",
    "          'hotpink']"
   ]
  },
  {
   "cell_type": "code",
   "execution_count": null,
   "metadata": {},
   "outputs": [],
   "source": [
    "plt.figure(figsize=(9, 6))\n",
    "with plt.style.context('seaborn-deep'):\n",
    "    plt_bx = sns.boxplot(x=\"species\",\n",
    "                         y=\"lightness\",\n",
    "                         data=df_Aro_ish,\n",
    "                         linewidth=2.0,\n",
    "                         palette=colors)\n",
    "    plt_bx.axes.set_xlim(-0.6, 9.6)\n",
    "    plt_bx.axes.set_ylim(0.0, 1.05)\n",
    "    plt_bx.set_xticklabels(sp_labels, fontsize=28, fontstyle='italic', rotation='vertical')\n",
    "    plt_bx.set_xlabel(\"\")\n",
    "    plt_bx.set_ylabel(\"Overall color tone\", fontsize=30)\n",
    "\n",
    "plt.tick_params(axis='y', which='major', labelsize=18)\n",
    "plt.tight_layout()\n",
    "\n",
    "plt.show()\n",
    "# plt.savefig(\"quant_lightness.pdf\", transparent = True)"
   ]
  },
  {
   "cell_type": "code",
   "execution_count": null,
   "metadata": {},
   "outputs": [],
   "source": [
    "plt.figure(figsize=(9, 6))\n",
    "with plt.style.context('seaborn-deep'):\n",
    "    plt_bx = sns.boxplot(x=\"species\",\n",
    "                         y=\"complexity\",\n",
    "                         data=df_Aro_ish,\n",
    "                         linewidth=2.0,\n",
    "                         palette=colors)\n",
    "    plt_bx.axes.set_xlim(-0.6, 9.6)\n",
    "    plt_bx.axes.set_ylim(0.1, 0.95)\n",
    "    plt_bx.set_xticklabels(sp_labels, fontsize=28, fontstyle='italic', rotation='vertical')\n",
    "    plt_bx.set_xlabel(\"\")\n",
    "    plt_bx.set_ylabel(\"Pattern complexity\", fontsize=30)\n",
    "    plt_bx.set_yticks([0.2, 0.4, 0.6, 0.8])\n",
    "\n",
    "plt.tick_params(axis='y', which='major', labelsize=18)\n",
    "plt.tight_layout()\n",
    "\n",
    "plt.show()\n",
    "# plt.savefig(\"quant_complexity.pdf\", transparent = True)"
   ]
  },
  {
   "cell_type": "code",
   "execution_count": null,
   "metadata": {},
   "outputs": [],
   "source": []
  }
 ],
 "metadata": {
  "kernelspec": {
   "display_name": "Environment (conda_anaconda3)",
   "language": "python",
   "name": "conda_anaconda3"
  },
  "language_info": {
   "codemirror_mode": {
    "name": "ipython",
    "version": 3
   },
   "file_extension": ".py",
   "mimetype": "text/x-python",
   "name": "python",
   "nbconvert_exporter": "python",
   "pygments_lexer": "ipython3",
   "version": "3.6.7"
  }
 },
 "nbformat": 4,
 "nbformat_minor": 2
}
