{
 "cells": [
  {
   "cell_type": "markdown",
   "metadata": {},
   "source": [
    "# Make metaball objects\n",
    "### evenly distributed cells on spheres/metaballs"
   ]
  },
  {
   "cell_type": "code",
   "execution_count": null,
   "metadata": {},
   "outputs": [],
   "source": [
    "%load_ext autoreload\n",
    "%autoreload 1\n",
    "\n",
    "import os\n",
    "\n",
    "from joblib import Parallel, delayed\n",
    "\n",
    "from rdmb import *\n",
    "%aimport rdmb\n",
    "\n",
    "# %matplotlib inline\n",
    "%matplotlib notebook"
   ]
  },
  {
   "cell_type": "code",
   "execution_count": null,
   "metadata": {
    "scrolled": true
   },
   "outputs": [],
   "source": [
    "mbs1 = Metaballs(mth=0.6)\n",
    "mbs1.append(Metaball(0, 0, 0, 0.88, 1))\n",
    "mbs1.update()\n",
    "display(rdmb.render_povray_mb(mbs1, width=300, height=150, angle=12))"
   ]
  },
  {
   "cell_type": "code",
   "execution_count": null,
   "metadata": {
    "scrolled": true
   },
   "outputs": [],
   "source": [
    "mbs3b = Metaballs(mth=0.6)\n",
    "mbs3b.append(Metaball(-1.2, 0, 0, 0.84, 1))\n",
    "mbs3b.append(Metaball(1.2, 0, 0, 0.84, 1))\n",
    "mbs3b.append(Metaball(0, 1.1, 0, 0.48, 1))\n",
    "mbs3b.update()\n",
    "display(rdmb.render_povray_mb(mbs3b, width=300, height=250, angle=12, rotz=180))"
   ]
  },
  {
   "cell_type": "code",
   "execution_count": null,
   "metadata": {},
   "outputs": [],
   "source": [
    "mbsq = Metaballs(mth=0.6)\n",
    "mbsq.append(Metaball(-1.6, 0, 0, 0.45, 1))\n",
    "mbsq.append(Metaball(1.6, 0, 0, 0.45, 1))\n",
    "mbsq.append(Metaball(0, 0, 0, 0.96, 1))\n",
    "mbsq.update()\n",
    "display(rdmb.render_povray_mb(mbsq, width=300, height=250, angle=12))"
   ]
  },
  {
   "cell_type": "code",
   "execution_count": null,
   "metadata": {},
   "outputs": [],
   "source": [
    "rdmb_save_dir = \"mbobj\"\n",
    "\n",
    "try:\n",
    "    os.makedirs(\"./\"+rdmb_save_dir)\n",
    "except FileExistsError:\n",
    "    pass"
   ]
  },
  {
   "cell_type": "code",
   "execution_count": null,
   "metadata": {},
   "outputs": [],
   "source": [
    "def run_make_mb_obj(fnbase, mbs, do_ite=False):\n",
    "    np.random.seed(42)\n",
    "    rdmb_save_dir = \"mbobj\"\n",
    "    mb_obj_file = rdmb_save_dir + \"/\" + fnbase + \".obj.gz\"\n",
    "\n",
    "    vs = rdmb.make_mb_obj(mb_obj_file,\n",
    "                          mbs,\n",
    "                          mva=4e-4,\n",
    "                          dt=1.0e-2,\n",
    "                          max_ite=10000,\n",
    "                          cv_end=0.08,\n",
    "                          do_ite=do_ite)\n",
    "    return vs"
   ]
  },
  {
   "cell_type": "code",
   "execution_count": null,
   "metadata": {},
   "outputs": [],
   "source": []
  },
  {
   "cell_type": "code",
   "execution_count": null,
   "metadata": {
    "scrolled": true
   },
   "outputs": [],
   "source": [
    "%%time\n",
    "\n",
    "# make metaball_obj\n",
    "\n",
    "fnbases = [\"mb_1\", \"mb_3b\", \"mb_hq\"]\n",
    "mbss = [mbs1, mbs3b, mbsq]\n",
    "\n",
    "vss = Parallel(n_jobs=3, verbose=1, max_nbytes=None)(\n",
    "        [delayed(run_make_mb_obj)(fnbase, mbs, do_ite=True)\n",
    "         for fnbase, mbs in zip(fnbases, mbss)])\n"
   ]
  },
  {
   "cell_type": "code",
   "execution_count": null,
   "metadata": {},
   "outputs": [],
   "source": [
    "mbs, vs, *_ = rdmb.load_mb_obj(\"mbobj/mb_1.obj.gz\")\n",
    "display(rdmb.render_povray(vs,\n",
    "                           width=300,\n",
    "                           height=150,\n",
    "                           angle=12,\n",
    "                           antialiasing=0.001))"
   ]
  },
  {
   "cell_type": "code",
   "execution_count": null,
   "metadata": {},
   "outputs": [],
   "source": [
    "mbs, vs, *_ = rdmb.load_mb_obj(\"mbobj/mb_3b.obj.gz\")\n",
    "display(rdmb.render_povray(vs,\n",
    "                           width=300,\n",
    "                           height=250,\n",
    "                           angle=12,\n",
    "                           antialiasing=0.001))"
   ]
  },
  {
   "cell_type": "code",
   "execution_count": null,
   "metadata": {
    "scrolled": true
   },
   "outputs": [],
   "source": [
    "mbs, vs, *_ = rdmb.load_mb_obj(\"mbobj/mb_hq.obj.gz\")\n",
    "display(rdmb.render_povray(vs,\n",
    "                           width=300,\n",
    "                           height=150,\n",
    "                           angle=12,\n",
    "                           antialiasing=0.001))"
   ]
  },
  {
   "cell_type": "code",
   "execution_count": null,
   "metadata": {},
   "outputs": [],
   "source": []
  }
 ],
 "metadata": {
  "kernelspec": {
   "display_name": "Python 3",
   "language": "python",
   "name": "python3"
  },
  "language_info": {
   "codemirror_mode": {
    "name": "ipython",
    "version": 3
   },
   "file_extension": ".py",
   "mimetype": "text/x-python",
   "name": "python",
   "nbconvert_exporter": "python",
   "pygments_lexer": "ipython3",
   "version": "3.6.7"
  }
 },
 "nbformat": 4,
 "nbformat_minor": 2
}
