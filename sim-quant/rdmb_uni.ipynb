{
 "cells": [
  {
   "cell_type": "markdown",
   "metadata": {},
   "source": [
    "# RD sim on spheres\n",
    "### (uniform parameter values)"
   ]
  },
  {
   "cell_type": "code",
   "execution_count": null,
   "metadata": {},
   "outputs": [],
   "source": [
    "%load_ext autoreload\n",
    "%autoreload 1\n",
    "\n",
    "import os\n",
    "import itertools\n",
    "\n",
    "import numpy as np\n",
    "import pandas as pd\n",
    "import matplotlib.pyplot as plt\n",
    "from PIL import Image, ImageOps\n",
    "from joblib import Parallel, delayed\n",
    "\n",
    "from rdmb import *\n",
    "from quant import *\n",
    "%aimport rdmb, quant\n",
    "\n",
    "# %matplotlib inline\n",
    "%matplotlib notebook"
   ]
  },
  {
   "cell_type": "code",
   "execution_count": null,
   "metadata": {},
   "outputs": [],
   "source": [
    "def run_rdmb_uni_AC(fnbase, out_dir, AC):\n",
    "    \n",
    "    mb_obj_file = \"mbobj/mb_1.obj.gz\"\n",
    "    A = AC[0]\n",
    "    C = AC[1]\n",
    "    out_file_base = out_dir + \"/\" + fnbase + \"_A{:.4f}_C{:.3f}\".format(A, C)\n",
    "    \n",
    "    rdmb.rdmb_uni_AC(mb_obj_file, out_file_base, A=A, C=C, max_ite=2000)\n",
    "    \n",
    "    return out_file_base"
   ]
  },
  {
   "cell_type": "markdown",
   "metadata": {},
   "source": [
    "### RD calculation (parallelized)"
   ]
  },
  {
   "cell_type": "code",
   "execution_count": null,
   "metadata": {
    "scrolled": false
   },
   "outputs": [],
   "source": [
    "%%time\n",
    "\n",
    "fnbase = \"MB_1\"\n",
    "out_dir = \"rd_out/uni\"\n",
    "\n",
    "try:\n",
    "    os.makedirs(\"./\"+out_dir)\n",
    "except FileExistsError:\n",
    "    pass\n",
    "\n",
    "As = np.linspace(0.07, 0.14, 30)\n",
    "Cs = np.linspace(-0.1, 0.4, 30)\n",
    "\n",
    "AAs, CCs = np.meshgrid(As, Cs)\n",
    "\n",
    "np.random.seed(42)\n",
    "\n",
    "rdmb_fnbases = Parallel(n_jobs=36, verbose=1, max_nbytes=None)(\n",
    "                    [delayed(run_rdmb_uni_AC)(\n",
    "                        fnbase=fnbase,\n",
    "                        out_dir=out_dir,\n",
    "                        AC=AC)\n",
    "                     for AC in zip(AAs.flatten(), CCs.flatten())])\n"
   ]
  },
  {
   "cell_type": "markdown",
   "metadata": {},
   "source": [
    "### Rendering for quantificaiton"
   ]
  },
  {
   "cell_type": "code",
   "execution_count": null,
   "metadata": {},
   "outputs": [],
   "source": [
    "pngfnames_q = Parallel(n_jobs=36, verbose=1, max_nbytes=None)(\n",
    "                    [delayed(rdmb.rdmb_povray_q)(rdmb_fnbase,\n",
    "                                                 time_point=2000,\n",
    "                                                 width=240,\n",
    "                                                 height=240,\n",
    "                                                 angle=5)\n",
    "                     for rdmb_fnbase in rdmb_fnbases])"
   ]
  },
  {
   "cell_type": "code",
   "execution_count": null,
   "metadata": {
    "scrolled": false
   },
   "outputs": [],
   "source": [
    "display(Image.open(pngfnames_q[425]))"
   ]
  },
  {
   "cell_type": "markdown",
   "metadata": {},
   "source": [
    "### Quantification"
   ]
  },
  {
   "cell_type": "code",
   "execution_count": null,
   "metadata": {},
   "outputs": [],
   "source": [
    "imgs = [Image.open(pngfname_q) for pngfname_q in pngfnames_q]\n",
    "imgs_crop_scale = [quant.crop_center(img, 128, 128)\n",
    "                   .convert('L')\n",
    "                   .resize((420, 420), resample=Image.LANCZOS)\n",
    "                   for img in imgs]\n",
    "imgs_mono = [quant.binarize(np.asarray(img))\n",
    "             for img in imgs_crop_scale]\n",
    "\n",
    "Ls = np.array([quant.quant(img)[0] for img in imgs_mono])\n",
    "PCSs = np.array([quant.quant(img)[1] for img in imgs_mono])\n",
    "\n",
    "df_uni = pd.DataFrame(np.c_[rdmb_fnbases,\n",
    "                            pngfnames_q,\n",
    "                            AAs.flatten(),\n",
    "                            CCs.flatten(),\n",
    "                            Ls,\n",
    "                            PCSs],\n",
    "                      columns=[\"file_base\",\n",
    "                               \"png_file_q\",\n",
    "                               \"A\",\n",
    "                               \"C\",\n",
    "                               \"lightness\",\n",
    "                               \"complexity\"])\n",
    "df_uni.to_csv(\"uni.csv\")\n"
   ]
  },
  {
   "cell_type": "code",
   "execution_count": null,
   "metadata": {},
   "outputs": [],
   "source": [
    "df_uni[100:105]"
   ]
  },
  {
   "cell_type": "markdown",
   "metadata": {},
   "source": [
    "### Rendering for visualization"
   ]
  },
  {
   "cell_type": "code",
   "execution_count": null,
   "metadata": {},
   "outputs": [],
   "source": [
    "pngfnames_col = Parallel(n_jobs=36, verbose=1, max_nbytes=None)(\n",
    "                    [delayed(rdmb_povray_color)(rdmb_fnbase,\n",
    "                                                time_point=2000,\n",
    "                                                width=200,\n",
    "                                                height=200,\n",
    "                                                rotx=0, roty=0, rotz=0,\n",
    "                                                angle=5,\n",
    "                                                mode=\"AC\")\n",
    "                     for rdmb_fnbase in rdmb_fnbases])"
   ]
  },
  {
   "cell_type": "code",
   "execution_count": null,
   "metadata": {},
   "outputs": [],
   "source": [
    "display(Image.open(pngfnames_col[425]))"
   ]
  },
  {
   "cell_type": "code",
   "execution_count": null,
   "metadata": {},
   "outputs": [],
   "source": [
    "imax=30\n",
    "jmax=30\n",
    "\n",
    "img = Image.new('RGBA', (180*jmax+20, 180*imax+20), color=\"white\")\n",
    "\n",
    "for i in range(imax):\n",
    "    for j in range(jmax):\n",
    "        im = Image.open(pngfnames_col[i*jmax+j])\n",
    "        img.paste(im, (180*i, 180*(jmax-j-1)), mask=im)\n",
    "        \n",
    "img.convert(mode=\"RGB\").save(\"uni_grid_color.jpg\", quality=95)\n",
    "\n",
    "display(img.resize((800, 800), Image.LANCZOS))"
   ]
  },
  {
   "cell_type": "code",
   "execution_count": null,
   "metadata": {},
   "outputs": [],
   "source": []
  }
 ],
 "metadata": {
  "kernelspec": {
   "display_name": "Python 3",
   "language": "python",
   "name": "python3"
  },
  "language_info": {
   "codemirror_mode": {
    "name": "ipython",
    "version": 3
   },
   "file_extension": ".py",
   "mimetype": "text/x-python",
   "name": "python",
   "nbconvert_exporter": "python",
   "pygments_lexer": "ipython3",
   "version": "3.6.7"
  }
 },
 "nbformat": 4,
 "nbformat_minor": 2
}
