{
 "cells": [
  {
   "cell_type": "markdown",
   "metadata": {},
   "source": [
    "# RD sim on spheres\n",
    "### (uniform parameter values)"
   ]
  },
  {
   "cell_type": "code",
   "execution_count": null,
   "metadata": {},
   "outputs": [],
   "source": [
    "%load_ext autoreload\n",
    "%autoreload 1\n",
    "\n",
    "import os\n",
    "import itertools\n",
    "\n",
    "import numpy as np\n",
    "import pandas as pd\n",
    "import matplotlib.pyplot as plt\n",
    "import seaborn as sns\n",
    "from PIL import Image, ImageOps\n",
    "from joblib import Parallel, delayed\n",
    "\n",
    "from rdmb import *\n",
    "from quant import *\n",
    "%aimport rdmb, quant\n",
    "\n",
    "# %matplotlib inline\n",
    "%matplotlib notebook"
   ]
  },
  {
   "cell_type": "code",
   "execution_count": null,
   "metadata": {},
   "outputs": [],
   "source": [
    "def run_rdmb_uni_AC(fnbase, out_dir, AC):\n",
    "    \n",
    "    mb_obj_file = \"mbobj/mb_1.obj.gz\"\n",
    "    A = AC[0]\n",
    "    C = AC[1]\n",
    "    out_file_base = out_dir + \"/\" + fnbase + \"_A{:.4f}_C{:.3f}\".format(A, C)\n",
    "    \n",
    "    rdmb.rdmb_uni_AC(mb_obj_file, out_file_base, A=A, C=C, max_ite=2000)\n",
    "    \n",
    "    return out_file_base"
   ]
  },
  {
   "cell_type": "markdown",
   "metadata": {},
   "source": [
    "### RD calculation (parallelized)"
   ]
  },
  {
   "cell_type": "code",
   "execution_count": null,
   "metadata": {
    "scrolled": false
   },
   "outputs": [],
   "source": [
    "%%time\n",
    "\n",
    "fnbase = \"MB_1\"\n",
    "out_dir = \"rd_out/uni\"\n",
    "\n",
    "try:\n",
    "    os.makedirs(\"./\"+out_dir)\n",
    "except FileExistsError:\n",
    "    pass\n",
    "\n",
    "As = np.linspace(0.07, 0.14, 30)\n",
    "Cs = np.linspace(-0.1, 0.4, 30)\n",
    "\n",
    "AAs, CCs = np.meshgrid(As, Cs)\n",
    "\n",
    "np.random.seed(42)\n",
    "\n",
    "rdmb_fnbases = Parallel(n_jobs=36, verbose=1, max_nbytes=None)(\n",
    "                    [delayed(run_rdmb_uni_AC)(\n",
    "                        fnbase=fnbase,\n",
    "                        out_dir=out_dir,\n",
    "                        AC=AC)\n",
    "                     for AC in zip(AAs.flatten(), CCs.flatten())])"
   ]
  },
  {
   "cell_type": "markdown",
   "metadata": {},
   "source": [
    "### Rendering for quantificaiton"
   ]
  },
  {
   "cell_type": "code",
   "execution_count": null,
   "metadata": {},
   "outputs": [],
   "source": [
    "pngfnames_q = Parallel(n_jobs=36, verbose=1, max_nbytes=None)(\n",
    "                    [delayed(rdmb.rdmb_povray_q)(rdmb_fnbase,\n",
    "                                                 time_point=2000,\n",
    "                                                 width=240,\n",
    "                                                 height=240,\n",
    "                                                 angle=5)\n",
    "                     for rdmb_fnbase in rdmb_fnbases])"
   ]
  },
  {
   "cell_type": "code",
   "execution_count": null,
   "metadata": {
    "scrolled": false
   },
   "outputs": [],
   "source": [
    "display(Image.open(pngfnames_q[425]))"
   ]
  },
  {
   "cell_type": "markdown",
   "metadata": {},
   "source": [
    "### Quantification"
   ]
  },
  {
   "cell_type": "code",
   "execution_count": null,
   "metadata": {},
   "outputs": [],
   "source": [
    "imgs = [Image.open(pngfname_q) for pngfname_q in pngfnames_q]\n",
    "imgs_crop_scale = [quant.crop_center(img, 128, 128)\n",
    "                   .convert('L')\n",
    "                   .resize((420, 420), resample=Image.LANCZOS)\n",
    "                   for img in imgs]\n",
    "imgs_mono = [quant.binarize(np.asarray(img))\n",
    "             for img in imgs_crop_scale]\n",
    "\n",
    "Ls = np.array([quant.quant(img)[0] for img in imgs_mono])\n",
    "PCSs = np.array([quant.quant(img)[1] for img in imgs_mono])\n",
    "\n",
    "df_uni = pd.DataFrame(np.c_[rdmb_fnbases,\n",
    "                            pngfnames_q,\n",
    "                            AAs.flatten(),\n",
    "                            CCs.flatten(),\n",
    "                            Ls,\n",
    "                            PCSs],\n",
    "                      columns=[\"file_base\",\n",
    "                               \"png_file_q\",\n",
    "                               \"A\",\n",
    "                               \"C\",\n",
    "                               \"lightness\",\n",
    "                               \"complexity\"])\n",
    "df_uni.to_csv(\"uni.csv\")\n"
   ]
  },
  {
   "cell_type": "code",
   "execution_count": null,
   "metadata": {},
   "outputs": [],
   "source": [
    "df_uni[100:105]"
   ]
  },
  {
   "cell_type": "markdown",
   "metadata": {},
   "source": [
    "### Rendering for visualization"
   ]
  },
  {
   "cell_type": "code",
   "execution_count": null,
   "metadata": {},
   "outputs": [],
   "source": [
    "pngfnames_col = Parallel(n_jobs=36, verbose=1, max_nbytes=None)(\n",
    "                    [delayed(rdmb_povray_color)(rdmb_fnbase,\n",
    "                                                time_point=2000,\n",
    "                                                width=200,\n",
    "                                                height=200,\n",
    "                                                rotx=0, roty=0, rotz=0,\n",
    "                                                angle=5,\n",
    "                                                mode=\"AC\")\n",
    "                     for rdmb_fnbase in rdmb_fnbases])"
   ]
  },
  {
   "cell_type": "code",
   "execution_count": null,
   "metadata": {},
   "outputs": [],
   "source": [
    "display(Image.open(pngfnames_col[425]))"
   ]
  },
  {
   "cell_type": "code",
   "execution_count": null,
   "metadata": {},
   "outputs": [],
   "source": [
    "imax=30\n",
    "jmax=30\n",
    "\n",
    "img = Image.new('RGBA', (180*jmax+20, 180*imax+20), color=\"white\")\n",
    "\n",
    "for i in range(imax):\n",
    "    for j in range(jmax):\n",
    "        im = Image.open(pngfnames_col[i*jmax+j])\n",
    "        img.paste(im, (180*i, 180*(jmax-j-1)), mask=im)\n",
    "        \n",
    "img.convert(mode=\"RGB\").save(\"uni_grid_color.jpg\", quality=95)\n",
    "\n",
    "display(img.resize((800, 800), Image.LANCZOS))"
   ]
  },
  {
   "cell_type": "code",
   "execution_count": null,
   "metadata": {},
   "outputs": [],
   "source": []
  },
  {
   "cell_type": "markdown",
   "metadata": {},
   "source": [
    "#### Response to Reviews\n",
    "### RD calculation (parallelized) with 8 replications"
   ]
  },
  {
   "cell_type": "code",
   "execution_count": null,
   "metadata": {},
   "outputs": [],
   "source": [
    "def run_rdmb_uni_ACseed(fnbase, out_dir, ACseed):\n",
    "    \n",
    "    mb_obj_file = \"mbobj/mb_1.obj.gz\"\n",
    "    A = ACseed[0]\n",
    "    C = ACseed[1]\n",
    "    seed = ACseed[2]\n",
    "    out_file_base = out_dir + \"/\" + fnbase + \"_A{:.4f}_C{:.3f}_{:03d}\".format(A, C, seed)\n",
    "    \n",
    "    np.random.seed(seed)\n",
    "    rdmb.rdmb_uni_AC(mb_obj_file, out_file_base, A=A, C=C, max_ite=2000)\n",
    "    \n",
    "    return out_file_base"
   ]
  },
  {
   "cell_type": "code",
   "execution_count": null,
   "metadata": {},
   "outputs": [],
   "source": [
    "%%time\n",
    "\n",
    "fnbase = \"MB_1\"\n",
    "out_dir = \"rd_out/uni_q\"\n",
    "\n",
    "try:\n",
    "    os.makedirs(\"./\"+out_dir)\n",
    "except FileExistsError:\n",
    "    pass\n",
    "\n",
    "As = 0.08\n",
    "Cs = [0.03, 0.10, 0.15, 0.21, 0.27]\n",
    "seeds = [0, 1, 2, 3, 4, 5, 6, 7]\n",
    "\n",
    "AAs, CCs, seedss= np.meshgrid(As, Cs, seeds)\n",
    "\n",
    "rdmb_fnbases_reps = Parallel(n_jobs=20, verbose=1, max_nbytes=None)(\n",
    "                    [delayed(run_rdmb_uni_ACseed)(\n",
    "                        fnbase=fnbase,\n",
    "                        out_dir=out_dir,\n",
    "                        ACseed=ACseed)\n",
    "                     for ACseed in zip(AAs.flatten(), CCs.flatten(), seedss.flatten())])"
   ]
  },
  {
   "cell_type": "markdown",
   "metadata": {},
   "source": [
    "### Rendering for quantification"
   ]
  },
  {
   "cell_type": "code",
   "execution_count": null,
   "metadata": {},
   "outputs": [],
   "source": [
    "pngfnames_q_reps = Parallel(n_jobs=5, verbose=1, max_nbytes=None)(\n",
    "                     [delayed(rdmb.rdmb_povray_q)(rdmb_fnbase,\n",
    "                                                  time_point=2000,\n",
    "                                                  width=240,\n",
    "                                                  height=240,\n",
    "                                                  angle=5)\n",
    "                     for rdmb_fnbase in rdmb_fnbases_reps])\n"
   ]
  },
  {
   "cell_type": "code",
   "execution_count": null,
   "metadata": {},
   "outputs": [],
   "source": [
    "fig = plt.figure(figsize = (5, 8), dpi = 150)\n",
    "\n",
    "for i in range(8):\n",
    "    for j in range(5):\n",
    "        p = j * 8 + i\n",
    "        q = i * 5 + j\n",
    "        ax = fig.add_subplot(8, 5, q+1)\n",
    "        ax.set_axis_off()\n",
    "        img = Image.open(pngfnames_q_reps[p])\n",
    "        plt.imshow(img)"
   ]
  },
  {
   "cell_type": "markdown",
   "metadata": {},
   "source": [
    "### Quantification"
   ]
  },
  {
   "cell_type": "code",
   "execution_count": null,
   "metadata": {},
   "outputs": [],
   "source": [
    "imgs = [Image.open(pngfname_q) for pngfname_q in pngfnames_q_reps]\n",
    "imgs_crop_scale = [quant.crop_center(img, 128, 128)\n",
    "                   .convert('L')\n",
    "                   .resize((420, 420), resample=Image.LANCZOS)\n",
    "                   for img in imgs]\n",
    "imgs_mono = [quant.binarize(np.asarray(img))\n",
    "             for img in imgs_crop_scale]\n",
    "\n",
    "Ls = np.array([quant.quant(img)[0] for img in imgs_mono])\n",
    "PCSs = np.array([quant.quant(img)[1] for img in imgs_mono])\n",
    "\n",
    "df_uni_q = pd.DataFrame(np.c_[pngfnames_q_reps,\n",
    "                              Ls,\n",
    "                              PCSs],\n",
    "                        columns=[\"png_file_q\",\n",
    "                                 \"lightness\",\n",
    "                                 \"complexity\"])\n",
    "df_uni_q.to_csv(\"uni_q.csv\")\n"
   ]
  },
  {
   "cell_type": "code",
   "execution_count": null,
   "metadata": {},
   "outputs": [],
   "source": [
    "df_uni_q = pd.read_csv(\"uni_q.csv\", index_col=0)"
   ]
  },
  {
   "cell_type": "markdown",
   "metadata": {},
   "source": [
    "### Save cropped images for quantificaiton with other measures"
   ]
  },
  {
   "cell_type": "code",
   "execution_count": null,
   "metadata": {},
   "outputs": [],
   "source": [
    "for pngfname_q, img_crop_scale in zip(pngfnames_q_reps, imgs_crop_scale):\n",
    "    save_file = pngfname_q[:-4] + \"_crop_scale.png\"\n",
    "    img_crop_scale.save(save_file)"
   ]
  },
  {
   "cell_type": "code",
   "execution_count": null,
   "metadata": {},
   "outputs": [],
   "source": [
    "pngcropfnames_q_reps = [pngfname_q[:-4] + \"_crop_scale.png\" for pngfname_q in pngfnames_q_reps]\n",
    "pngcropfnames_q_reps"
   ]
  },
  {
   "cell_type": "code",
   "execution_count": null,
   "metadata": {},
   "outputs": [],
   "source": [
    "fig = plt.figure(figsize = (5, 8), dpi = 300)\n",
    "plt.subplots_adjust(wspace=0.3, hspace=-0.4)\n",
    "\n",
    "for i in range(8):\n",
    "    for j in range(5):\n",
    "        p = j * 8 + i\n",
    "        q = i * 5 + j\n",
    "        ax = fig.add_subplot(8, 5, q+1)\n",
    "        ax.set_axis_off()\n",
    "        img = Image.open(pngcropfnames_q_reps[p])\n",
    "        plt.imshow(img, cmap='gray')\n",
    "\n",
    "plt.show()\n",
    "# plt.savefig(\"uni_q_crop.png\")"
   ]
  },
  {
   "cell_type": "code",
   "execution_count": null,
   "metadata": {},
   "outputs": [],
   "source": []
  }
 ],
 "metadata": {
  "kernelspec": {
   "display_name": "Python 3",
   "language": "python",
   "name": "python3"
  },
  "language_info": {
   "codemirror_mode": {
    "name": "ipython",
    "version": 3
   },
   "file_extension": ".py",
   "mimetype": "text/x-python",
   "name": "python",
   "nbconvert_exporter": "python",
   "pygments_lexer": "ipython3",
   "version": "3.6.7"
  }
 },
 "nbformat": 4,
 "nbformat_minor": 2
}
