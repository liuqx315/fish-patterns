{
 "cells": [
  {
   "cell_type": "markdown",
   "metadata": {},
   "source": [
    "# RD sim on spheres/metaballs"
   ]
  },
  {
   "cell_type": "code",
   "execution_count": null,
   "metadata": {},
   "outputs": [],
   "source": [
    "%load_ext autoreload\n",
    "%autoreload 1\n",
    "\n",
    "import os\n",
    "import itertools\n",
    "import colorsys\n",
    "\n",
    "import numpy as np\n",
    "from joblib import Parallel, delayed\n",
    "from PIL import Image\n",
    "from vapory import *\n",
    "\n",
    "from rdmb import *\n",
    "%aimport rdmb\n",
    "\n",
    "%matplotlib inline"
   ]
  },
  {
   "cell_type": "markdown",
   "metadata": {},
   "source": [
    "### sim_set\n",
    "|     |\n",
    "|-----|\n",
    "| p0  |\n",
    "| p1  | \n",
    "| h12 |\n",
    "| p2  |\n",
    "| p3  |\n",
    "#### p: parents, h: hybrids"
   ]
  },
  {
   "cell_type": "code",
   "execution_count": null,
   "metadata": {},
   "outputs": [],
   "source": [
    "def sim_parent(file_base, out_dir, A, C, seed=42):\n",
    "    \n",
    "    np.random.seed(seed)\n",
    "    mb_obj_file = \"mbobj/mb_1.obj.gz\"\n",
    "    \n",
    "    fb_p = out_dir + \"/\" + file_base + \"_A{:.4f}_C{:.4f}_seed-{:d}\".format(A, C, seed)\n",
    "    rdmb.rdmb_uni_AC(mb_obj_file, fb_p, A=A, C=C, max_ite=2000)\n",
    "    \n",
    "    return fb_p"
   ]
  },
  {
   "cell_type": "code",
   "execution_count": null,
   "metadata": {},
   "outputs": [],
   "source": [
    "def sim_hybrid(file_base, out_dir, As, Cs, form=12, seed=42):\n",
    "    \n",
    "    np.random.seed(seed)\n",
    "    mb_obj_file = \"mbobj/mb_3b.obj.gz\"\n",
    "\n",
    "    fb_h = out_dir + \"/\" + file_base + \"_h12_seed-{:d}\".format(seed)\n",
    "    rdmb.rdmb_grad_AC(mb_obj_file, fb_h, -1.6, 1.4,\n",
    "                          As[2], As[1], Cs[2], Cs[1], max_ite=2000)\n",
    "\n",
    "    return fb_h"
   ]
  },
  {
   "cell_type": "code",
   "execution_count": null,
   "metadata": {},
   "outputs": [],
   "source": [
    "AC_sets = [\n",
    "    [[0.08, 0.08, 0.08, 0.08], [0.01, 0.06, 0.27, 0.307]],\n",
    "    [[0.07, 0.075, 0.116, 0.12], [0.08, 0.08, 0.08, 0.08]],\n",
    "    [[0.075, 0.08, 0.08, 0.12], [0.08, 0.01, 0.27, 0.08]],  \n",
    "]"
   ]
  },
  {
   "cell_type": "code",
   "execution_count": null,
   "metadata": {},
   "outputs": [],
   "source": [
    "As = AC_sets[0][0]\n",
    "Cs = AC_sets[0][1]\n",
    "\n",
    "display(As, Cs)"
   ]
  },
  {
   "cell_type": "markdown",
   "metadata": {},
   "source": [
    "### h12"
   ]
  },
  {
   "cell_type": "code",
   "execution_count": null,
   "metadata": {},
   "outputs": [],
   "source": [
    "%%time\n",
    "\n",
    "np.random.seed(42)\n",
    "\n",
    "out_dir = \"rd_out/set2\"\n",
    "\n",
    "try:\n",
    "    os.makedirs(\"./\"+out_dir)\n",
    "except FileExistsError:\n",
    "    pass\n",
    "\n",
    "fb_hs = Parallel(n_jobs=1, verbose=1, max_nbytes=None)(\n",
    "            [delayed(sim_hybrid)(file_base=\"hs\",\n",
    "                                 out_dir=out_dir,\n",
    "                                 As=As, Cs=Cs,\n",
    "                                 form=i, seed=np.random.randint(10000))\n",
    "             for i in [12]])"
   ]
  },
  {
   "cell_type": "code",
   "execution_count": null,
   "metadata": {},
   "outputs": [],
   "source": [
    "pngfname = rdmb.rdmb_povray(fb_hs[0], 2000, width=600, height=400, angle=15)\n",
    "display(Image.open(pngfname))\n"
   ]
  },
  {
   "cell_type": "markdown",
   "metadata": {},
   "source": [
    "### p0-p3"
   ]
  },
  {
   "cell_type": "code",
   "execution_count": null,
   "metadata": {},
   "outputs": [],
   "source": [
    "%%time\n",
    "\n",
    "np.random.seed(42)\n",
    "\n",
    "out_dir = \"rd_out/set2\"\n",
    "\n",
    "try:\n",
    "    os.makedirs(\"./\"+out_dir)\n",
    "except FileExistsError:\n",
    "    pass\n",
    "\n",
    "fb_ps = Parallel(n_jobs=4, verbose=1, max_nbytes=None)(\n",
    "            [delayed(sim_parent)(file_base=\"ps\",\n",
    "                                 out_dir=out_dir,\n",
    "                                 A=AC[0], C=AC[1],\n",
    "                                 seed=np.random.randint(10000))\n",
    "             for AC in zip(As, Cs)])"
   ]
  },
  {
   "cell_type": "code",
   "execution_count": null,
   "metadata": {},
   "outputs": [],
   "source": []
  },
  {
   "cell_type": "code",
   "execution_count": null,
   "metadata": {},
   "outputs": [],
   "source": [
    "fb_ps = ['rd_out/set2/ps_A0.0800_C0.0100_seed-7270',\n",
    "         'rd_out/set2/ps_A0.0800_C0.0600_seed-860',\n",
    "         'rd_out/set2/ps_A0.0800_C0.2700_seed-5390',\n",
    "         'rd_out/set2/ps_A0.0800_C0.3070_seed-5191']"
   ]
  },
  {
   "cell_type": "code",
   "execution_count": null,
   "metadata": {},
   "outputs": [],
   "source": [
    "fb_hs = ['rd_out/set2/hs_h12_seed-7270']"
   ]
  },
  {
   "cell_type": "code",
   "execution_count": null,
   "metadata": {},
   "outputs": [],
   "source": []
  },
  {
   "cell_type": "code",
   "execution_count": null,
   "metadata": {},
   "outputs": [],
   "source": [
    "def sim_set_scene(fb, rotx=0, roty=0, rotz=0, mode=\"C\"):\n",
    "    \n",
    "    vs, ucs, A, C = rdmb.load_rd_mb(fb)\n",
    "        \n",
    "    camera = Camera('location', [0, 0, -45],\n",
    "                    'look_at', [0, 0, 0],\n",
    "                    'angle', 6,\n",
    "                    'right x*image_width/image_height')\n",
    "    \n",
    "    light = LightSource([-10, 10, -20],\n",
    "                        'color', [1.0, 1.0, 1.0], 'parallel')\n",
    "    light2 = LightSource([10, -6, -20],\n",
    "                         'color', [0.2, 0.2, 0.2], 'parallel')\n",
    "    background = Background('color', [1, 1, 1, 1])\n",
    "\n",
    "    spheres = []\n",
    "    xd = 3.0\n",
    "    # xdd = 0.1\n",
    "    xdd = 0.2\n",
    "\n",
    "    spheres += rdmb.sph(vs, ucs,\n",
    "                        np.ones(len(vs))*A,\n",
    "                        np.ones(len(vs))*C,\n",
    "                        0, 0, 0, rotx=rotx, roty=roty, rotz=rotz, mode=mode)\n",
    "    \n",
    "    objects = [light, light2, background] + spheres\n",
    "\n",
    "    scene = Scene(camera, objects=objects)\n",
    "    \n",
    "    return scene"
   ]
  },
  {
   "cell_type": "code",
   "execution_count": null,
   "metadata": {
    "scrolled": false
   },
   "outputs": [],
   "source": [
    "scenes = [sim_set_scene(fb=fb_ps[0],\n",
    "                        rotx=0,\n",
    "                        rotz=0,\n",
    "                        mode=\"C\")]\n",
    "\n",
    "png_file = \"rdmb_p0_0.png\"\n",
    "scenes[0].render(png_file,\n",
    "                 width=800,\n",
    "                 height=800,\n",
    "                 output_alpha=True,\n",
    "                 antialiasing=0.001)\n",
    "\n",
    "!convert $png_file -gravity center -crop 400x400+0+0 $png_file\n",
    "display(Image.open(png_file))"
   ]
  },
  {
   "cell_type": "code",
   "execution_count": null,
   "metadata": {
    "scrolled": false
   },
   "outputs": [],
   "source": [
    "scenes = [sim_set_scene(fb=fb_ps[1],\n",
    "                        rotx=0,\n",
    "                        rotz=0,\n",
    "                        mode=\"C\")]\n",
    "\n",
    "png_file = \"rdmb_p1_0.png\"\n",
    "scenes[0].render(png_file,\n",
    "                 width=800,\n",
    "                 height=800,\n",
    "                 output_alpha=True,\n",
    "                 antialiasing=0.001)\n",
    "\n",
    "!convert $png_file -gravity center -crop 400x400+0+0 $png_file\n",
    "display(Image.open(png_file))"
   ]
  },
  {
   "cell_type": "code",
   "execution_count": null,
   "metadata": {
    "scrolled": false
   },
   "outputs": [],
   "source": [
    "scenes = [sim_set_scene(fb=fb_hs[0],\n",
    "                        rotx=195,\n",
    "                        rotz=90,\n",
    "                        mode=\"C\")]\n",
    "\n",
    "png_file = \"rdmb_h12_0.png\"\n",
    "scenes[0].render(png_file,\n",
    "                 width=800,\n",
    "                 height=800,\n",
    "                 output_alpha=True,\n",
    "                 antialiasing=0.001)\n",
    "\n",
    "!convert $png_file -gravity center -crop 600x800+0+0 $png_file\n",
    "display(Image.open(png_file))"
   ]
  },
  {
   "cell_type": "code",
   "execution_count": null,
   "metadata": {
    "scrolled": false
   },
   "outputs": [],
   "source": [
    "scenes = [sim_set_scene(fb=fb_ps[2],\n",
    "                        rotx=0,\n",
    "                        rotz=0,\n",
    "                        mode=\"C\")]\n",
    "\n",
    "png_file = \"rdmb_p2_0.png\"\n",
    "scenes[0].render(png_file,\n",
    "                 width=800,\n",
    "                 height=800,\n",
    "                 output_alpha=True,\n",
    "                 antialiasing=0.001)\n",
    "\n",
    "!convert $png_file -gravity center -crop 400x400+0+0 $png_file\n",
    "display(Image.open(png_file))"
   ]
  },
  {
   "cell_type": "code",
   "execution_count": null,
   "metadata": {
    "scrolled": false
   },
   "outputs": [],
   "source": [
    "scenes = [sim_set_scene(fb=fb_ps[3],\n",
    "                        rotx=0,\n",
    "                        rotz=0,\n",
    "                        mode=\"C\")]\n",
    "\n",
    "png_file = \"rdmb_p3_0.png\"\n",
    "scenes[0].render(png_file,\n",
    "                 width=800,\n",
    "                 height=800,\n",
    "                 output_alpha=True,\n",
    "                 antialiasing=0.001)\n",
    "\n",
    "!convert $png_file -gravity center -crop 400x400+0+0 $png_file\n",
    "display(Image.open(png_file))"
   ]
  },
  {
   "cell_type": "code",
   "execution_count": null,
   "metadata": {},
   "outputs": [],
   "source": []
  }
 ],
 "metadata": {
  "kernelspec": {
   "display_name": "Python 3",
   "language": "python",
   "name": "python3"
  },
  "language_info": {
   "codemirror_mode": {
    "name": "ipython",
    "version": 3
   },
   "file_extension": ".py",
   "mimetype": "text/x-python",
   "name": "python",
   "nbconvert_exporter": "python",
   "pygments_lexer": "ipython3",
   "version": "3.6.7"
  }
 },
 "nbformat": 4,
 "nbformat_minor": 2
}
