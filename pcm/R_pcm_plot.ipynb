{
 "cells": [
  {
   "cell_type": "markdown",
   "metadata": {},
   "source": [
    "# Phylogenetic comparative methods\n",
    "\n",
    "### using [BayesTraits](http://www.evolution.rdg.ac.uk/BayesTraits.html) 3.0.1\n",
    "\n",
    "#### Motif set: (Sp-D, Sp-L, Maze)\n",
    "#### Top 10 major fish orders"
   ]
  },
  {
   "cell_type": "code",
   "execution_count": null,
   "metadata": {},
   "outputs": [],
   "source": [
    "version"
   ]
  },
  {
   "cell_type": "code",
   "execution_count": null,
   "metadata": {},
   "outputs": [],
   "source": [
    "library(tidyverse)\n",
    "library(ggpubr)\n",
    "\n",
    "packageVersion(\"tidyverse\")\n",
    "packageVersion(\"ggpubr\")\n",
    "\n",
    "source(\"PCM_misc.R\")"
   ]
  },
  {
   "cell_type": "code",
   "execution_count": null,
   "metadata": {},
   "outputs": [],
   "source": [
    "# num_gen: the number of genera\n",
    "# num_gen2: the number of genera for which trait data are available\n",
    "# num_gen_Maze: the number of genera in which Maze motifs occur\n",
    "\n",
    "top10odrs <- read_csv(\"top10odrs.csv\", col_types = \"ciii\")\n",
    "top10odrs"
   ]
  },
  {
   "cell_type": "code",
   "execution_count": null,
   "metadata": {},
   "outputs": [],
   "source": [
    "get_MgLh <- function(target_order, ptns, model, hp_exp1, hp_exp2, rep) {\n",
    "    fbase <- str_c(target_order, \"state\", ptns, sep=\"_\")\n",
    "    modelpar <- str_c(model, \"rjMCMC_SCT_HPexp\", hp_exp1, hp_exp2, \"rep\", rep, sep=\"_\")\n",
    "    stones_file <- str_c(\"./logs/\", fbase, \"_\", modelpar, \".Stones.txt\", sep = \"\")\n",
    "    \n",
    "    if (! file.exists(stones_file)) {\n",
    "        print(str_c(\"file not found: \", stones_file))\n",
    "        return(NA_real_)\n",
    "    }\n",
    "    \n",
    "    MgLh <- NA_real_\n",
    "    tryCatch({\n",
    "        df_MgLh <- read_tsv(stones_file, skip = 107, col_names = FALSE, col_types=\"cd\")\n",
    "        MgLh <- df_MgLh[[1, 2]]\n",
    "        }, error=function(e){}\n",
    "    )\n",
    "    return(MgLh)\n",
    "}\n",
    "\n",
    "get_df_MCMC <- function(target_order, ptns, model, hp_exp1, hp_exp2, rep) {\n",
    "    fbase <- str_c(target_order, \"state\", ptns, sep=\"_\")\n",
    "    modelpar <- str_c(model, \"rjMCMC_SCT_HPexp\", hp_exp1, hp_exp2, \"rep\", rep, sep=\"_\")\n",
    "    log_file <- str_c(\"./logs/\", fbase, \"_\", modelpar, \".Log.txt\", sep = \"\")\n",
    "    \n",
    "    if (! file.exists(log_file)) {\n",
    "        print(str_c(\"file not found: \", log_file))\n",
    "        return(NA_real_)\n",
    "    }\n",
    "\n",
    "    colsp <- cols(.default = col_double(),\n",
    "                  `Model string` = col_character())\n",
    "\n",
    "    df_MCMC <- NA\n",
    "    tryCatch({\n",
    "        start_line <- grep(\"^Iteration\\tLh\", read_lines(log_file))\n",
    "        # print(str_c(start_line, \" lines skipped\"))\n",
    "        df_MCMC <- read_tsv(log_file,\n",
    "                            skip = (start_line - 1),\n",
    "                            col_types = colsp)\n",
    "        df_MCMC <- df_MCMC %>%\n",
    "            select(-starts_with(\"X\"))\n",
    "        \n",
    "        }, error=function(e){ }\n",
    "    )\n",
    "    \n",
    "    return(df_MCMC)\n",
    "}\n",
    "\n",
    "get_mean_rates <- function(target_order, ptns, model, rep, row, column) {\n",
    "    df <- get_df_MCMC(target_order, ptns, model, 0, 10, rep)\n",
    "    return(rateMatMean(df)[row, column])\n",
    "}\n"
   ]
  },
  {
   "cell_type": "code",
   "execution_count": null,
   "metadata": {},
   "outputs": [],
   "source": [
    "ptns <- \"Sp_D_Sp_L_Maze\"\n",
    "hp_exp1 <- 0\n",
    "hp_exp2 <- 10\n",
    "models = c(\"IND\", \"indZ\", \"DEP\")\n",
    "\n",
    "get_df_model_rep <- function(model, rep) {\n",
    "    top10odrs %>%\n",
    "    mutate(\n",
    "        MgLh = map_dbl(order, get_MgLh, ptns = ptns, model = model,\n",
    "                       hp_exp1 = hp_exp1, hp_exp2 = hp_exp2,\n",
    "                       rep = rep),\n",
    "        ptns = ptns,\n",
    "        model = model,\n",
    "        rep = rep\n",
    "    )\n",
    "}\n",
    "\n",
    "df_1 <- bind_rows(map(models, get_df_model_rep, 1))\n",
    "df_2 <- bind_rows(map(models, get_df_model_rep, 2))\n",
    "df_3 <- bind_rows(map(models, get_df_model_rep, 3))\n",
    "df_odrs <- bind_rows(df_1, df_2, df_3)\n",
    "\n",
    "df_odrs %>% head(30)"
   ]
  },
  {
   "cell_type": "code",
   "execution_count": null,
   "metadata": {
    "scrolled": true
   },
   "outputs": [],
   "source": [
    "df_rates_odrs <- df_odrs %>%\n",
    "    mutate(rates = pmap(list(order, ptns, model, rep), get_mean_rates))"
   ]
  },
  {
   "cell_type": "code",
   "execution_count": null,
   "metadata": {},
   "outputs": [],
   "source": [
    "df_rates <- df_rates_odrs %>%\n",
    "    mutate(\n",
    "        q14 = map_dbl(rates, ~ .x[1, 4]),\n",
    "        q26 = map_dbl(rates, ~ .x[2, 6]),\n",
    "        q37 = map_dbl(rates, ~ .x[3, 7]),\n",
    "        q58 = map_dbl(rates, ~ .x[5, 8]),\n",
    "        q41 = map_dbl(rates, ~ .x[4, 1]),\n",
    "        q62 = map_dbl(rates, ~ .x[6, 2]),\n",
    "        q73 = map_dbl(rates, ~ .x[7, 3]),\n",
    "        q85 = map_dbl(rates, ~ .x[8, 5])\n",
    "    ) %>%\n",
    "    select(order, num_gen:MgLh, model, rep, q14:q85) %>%\n",
    "    pivot_longer(cols = c(q14, q26, q37, q58, q41, q62, q73, q85), names_to = \"qij\", values_to = \"rate\")"
   ]
  },
  {
   "cell_type": "code",
   "execution_count": null,
   "metadata": {
    "scrolled": true
   },
   "outputs": [],
   "source": [
    "df_rates"
   ]
  },
  {
   "cell_type": "code",
   "execution_count": null,
   "metadata": {},
   "outputs": [],
   "source": [
    "options(repr.plot.width = 7, repr.plot.height = 5)\n",
    "\n",
    "mgain <- df_rates %>%\n",
    "    filter(model == \"DEP\") %>%\n",
    "    group_by(order, qij) %>%\n",
    "    summarize(mean_rate = mean(rate), num_gen2 = mean(num_gen2)) %>%\n",
    "    ungroup() %>%\n",
    "    pivot_wider(names_from = qij, values_from = mean_rate) %>%\n",
    "    drop_na() %>%\n",
    "    arrange(desc(num_gen2)) %>%\n",
    "    pivot_longer(cols = c(q14, q26, q37, q58), names_to = \"qij\", values_to = \"mean_rate\") %>%\n",
    "\n",
    "    ggplot(aes(x = qij, y = mean_rate)) +\n",
    "        geom_line(aes(color = fct_reorder(order, desc(num_gen2)), group = order), size = 1) +\n",
    "        geom_point(aes(color = order), size = 3) +\n",
    "        scale_x_discrete(labels = c(\"a\", \"b\", \"c\", \"d\"), expand = c(0.1, 0.1)) +\n",
    "        scale_y_continuous(breaks = seq(0, 8, by = 2)) +\n",
    "        theme_classic() +\n",
    "        theme(axis.text.x = element_text(face = \"italic\", size = 22, color = \"black\"),\n",
    "              axis.text.y = element_text(size = 12, color = \"black\"),\n",
    "              axis.title.y = element_text(size = 18),\n",
    "              legend.text = element_text(size = 14),\n",
    "              legend.key.size = unit(1, \"line\"),\n",
    "              plot.margin = unit(c(1, 0.7, 0, 1), \"lines\")) +\n",
    "        labs(x = \"\", y = \"Transition rate (Maze gain)\", color = \"\")\n",
    "\n",
    "mloss <- df_rates %>%\n",
    "    filter(model == \"DEP\") %>%\n",
    "    group_by(order, qij) %>%\n",
    "    summarize(mean_rate = mean(rate), num_gen2 = mean(num_gen2)) %>%\n",
    "    ungroup() %>%\n",
    "    pivot_wider(names_from = qij, values_from = mean_rate) %>%\n",
    "    drop_na() %>%\n",
    "    arrange(desc(num_gen2)) %>%\n",
    "    pivot_longer(cols = c(q41, q62, q73, q85), names_to = \"qij\", values_to = \"mean_rate\") %>%\n",
    "\n",
    "    ggplot(aes(x = qij, y = mean_rate)) +\n",
    "        geom_line(aes(color = fct_reorder(order, desc(num_gen2)), group = order), size = 1) +\n",
    "        geom_point(aes(color = order), size = 3) +\n",
    "        scale_x_discrete(labels = c(\"e\", \"f\", \"g\", \"h\"), expand = c(0.1, 0.1)) +\n",
    "        scale_y_continuous(breaks = seq(0, 8, by = 2)) +\n",
    "        theme_classic() +\n",
    "        theme(axis.text.x = element_text(face = \"italic\", size = 22, color = \"black\"),\n",
    "              axis.text.y = element_text(size = 12, color = \"black\"),\n",
    "              axis.title.y = element_text(size = 18),\n",
    "              legend.text = element_text(size = 14),\n",
    "              legend.key.size = unit(1, \"line\"),\n",
    "              plot.margin = unit(c(1, 1, 0, 0.7), \"lines\")) +\n",
    "        labs(x = \"\", y = \"Transition rate (Maze loss)\", color = \"\")\n",
    "\n",
    "plots <- ggarrange(mgain, mloss,\n",
    "          ncol = 2,\n",
    "          common.legend = TRUE, legend = \"bottom\")\n",
    "\n",
    "plots\n",
    "\n",
    "plots %>%\n",
    "    ggsave(file = \"Maze_gain_loss_rates.pdf\", width = 7, height = 5)"
   ]
  },
  {
   "cell_type": "code",
   "execution_count": null,
   "metadata": {},
   "outputs": [],
   "source": []
  },
  {
   "cell_type": "code",
   "execution_count": null,
   "metadata": {},
   "outputs": [],
   "source": [
    "options(repr.plot.width = 6, repr.plot.height = 6)\n",
    "\n",
    "df_rates_odrs %>%\n",
    "    filter(order == \"Perciformes\",\n",
    "           model == \"IND\",\n",
    "           rep == 1) %>%\n",
    "    pull(rates) %>%\n",
    "    .[[1]] -> mat\n",
    "\n",
    "plotRatesInd(mat, main = \"Perciformes (IND model)\", sub = \"(Sp_D, Sp_L, Maze)\")\n"
   ]
  },
  {
   "cell_type": "code",
   "execution_count": null,
   "metadata": {},
   "outputs": [],
   "source": [
    "options(repr.plot.width = 6, repr.plot.height = 6)\n",
    "\n",
    "df_rates_odrs %>%\n",
    "    filter(order == \"Perciformes\",\n",
    "           model == \"DEP\",\n",
    "           rep == 1) %>%\n",
    "    pull(rates) %>%\n",
    "    .[[1]] -> mat\n",
    "\n",
    "plotRates(mat, main = \"Perciformes (DEP model)\", sub = \"(Sp_D, Sp_L, Maze)\")\n"
   ]
  },
  {
   "cell_type": "code",
   "execution_count": null,
   "metadata": {},
   "outputs": [],
   "source": [
    "options(repr.plot.width = 6, repr.plot.height = 6)\n",
    "\n",
    "df_rates_odrs %>%\n",
    "    filter(order == \"Perciformes\",\n",
    "           model == \"indZ\",\n",
    "           rep == 1) %>%\n",
    "    pull(rates) %>%\n",
    "    .[[1]] -> mat\n",
    "\n",
    "plotRatesIndZ(mat, main = \"Perciformes (indZ model)\", sub = \"(Sp_D, Sp_L, Maze)\")"
   ]
  },
  {
   "cell_type": "code",
   "execution_count": null,
   "metadata": {},
   "outputs": [],
   "source": []
  },
  {
   "cell_type": "markdown",
   "metadata": {},
   "source": [
    "### Bayes factor (DEP - IND)"
   ]
  },
  {
   "cell_type": "code",
   "execution_count": null,
   "metadata": {},
   "outputs": [],
   "source": [
    "df_rates_full <- df_rates_odrs %>%\n",
    "    mutate(\n",
    "        q12 = map_dbl(rates, ~ .x[1, 2]),\n",
    "        q13 = map_dbl(rates, ~ .x[1, 3]),\n",
    "        q14 = map_dbl(rates, ~ .x[1, 4]),\n",
    "        q21 = map_dbl(rates, ~ .x[2, 1]),\n",
    "        q25 = map_dbl(rates, ~ .x[2, 5]),\n",
    "        q26 = map_dbl(rates, ~ .x[2, 6]),\n",
    "        q31 = map_dbl(rates, ~ .x[3, 1]),\n",
    "        q35 = map_dbl(rates, ~ .x[3, 5]),\n",
    "        q37 = map_dbl(rates, ~ .x[3, 7]),\n",
    "        q41 = map_dbl(rates, ~ .x[4, 1]),\n",
    "        q46 = map_dbl(rates, ~ .x[4, 6]),\n",
    "        q47 = map_dbl(rates, ~ .x[4, 7]),\n",
    "        q52 = map_dbl(rates, ~ .x[5, 2]),\n",
    "        q53 = map_dbl(rates, ~ .x[5, 3]),\n",
    "        q58 = map_dbl(rates, ~ .x[5, 8]),\n",
    "        q62 = map_dbl(rates, ~ .x[6, 2]),\n",
    "        q64 = map_dbl(rates, ~ .x[6, 4]),\n",
    "        q68 = map_dbl(rates, ~ .x[6, 8]),\n",
    "        q73 = map_dbl(rates, ~ .x[7, 3]),\n",
    "        q74 = map_dbl(rates, ~ .x[7, 4]),\n",
    "        q78 = map_dbl(rates, ~ .x[7, 8]),\n",
    "        q85 = map_dbl(rates, ~ .x[8, 5]),\n",
    "        q86 = map_dbl(rates, ~ .x[8, 6]),\n",
    "        q87 = map_dbl(rates, ~ .x[8, 7])\n",
    "    ) %>%\n",
    "    select(order, Ngen = num_gen2, NgenMaze = num_gen_Maze, MgLh, model, rep, q12:q87)"
   ]
  },
  {
   "cell_type": "code",
   "execution_count": null,
   "metadata": {},
   "outputs": [],
   "source": [
    "df_MgLh_BF_DEP_IND <- df_rates_full %>%\n",
    "    select(order:rep) %>%\n",
    "    pivot_wider(names_from = model, names_prefix = \"MgLh_\", values_from = MgLh) %>%\n",
    "    select(order, Ngen, NgenMaze, rep, MgLh_IND, MgLh_DEP) %>%\n",
    "    arrange(desc(Ngen), desc(NgenMaze), rep) %>%\n",
    "    mutate(\n",
    "        logBF_DEP_IND = 2 * (MgLh_DEP - MgLh_IND)\n",
    "    ) %>%\n",
    "\n",
    "    mutate(evidence = case_when(\n",
    "        logBF_DEP_IND > 10 ~ \"***\",\n",
    "        (5 < logBF_DEP_IND & logBF_DEP_IND <= 10) ~ \"**\",\n",
    "        (2 < logBF_DEP_IND & logBF_DEP_IND <= 5) ~ \"*\",\n",
    "        logBF_DEP_IND <= 2 ~ \"\")) %>%\n",
    "\n",
    "    mutate(MgLh_IND = format(MgLh_IND, digits = 3, nsmall = 2, trim = TRUE),\n",
    "           MgLh_DEP = format(MgLh_DEP, digits = 3, nsmall = 2, trim = TRUE),\n",
    "           logBF_DEP_IND = str_c(format(logBF_DEP_IND, digits = 1, nsmall = 2, trim = TRUE), \" \", evidence))\n",
    "\n",
    "df_MgLh_BF_DEP_IND"
   ]
  },
  {
   "cell_type": "code",
   "execution_count": null,
   "metadata": {},
   "outputs": [],
   "source": []
  }
 ],
 "metadata": {
  "kernelspec": {
   "display_name": "R",
   "language": "R",
   "name": "ir"
  },
  "language_info": {
   "codemirror_mode": "r",
   "file_extension": ".r",
   "mimetype": "text/x-r-source",
   "name": "R",
   "pygments_lexer": "r",
   "version": "3.5.2"
  }
 },
 "nbformat": 4,
 "nbformat_minor": 2
}
