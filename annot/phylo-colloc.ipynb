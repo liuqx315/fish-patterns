{
 "cells": [
  {
   "cell_type": "markdown",
   "metadata": {},
   "source": [
    "# Phylogenetic collocation analysis"
   ]
  },
  {
   "cell_type": "code",
   "execution_count": null,
   "metadata": {},
   "outputs": [],
   "source": [
    "import numpy as np\n",
    "import pandas as pd\n",
    "from scipy.stats import chi2_contingency\n",
    "\n",
    "import matplotlib.pyplot as plt\n",
    "import seaborn as sns\n",
    "\n",
    "import networkx as nx\n",
    "\n",
    "import svgutils.compose as sc\n",
    "import svgutils.transform as sg\n",
    "\n",
    "% matplotlib inline"
   ]
  },
  {
   "cell_type": "code",
   "execution_count": null,
   "metadata": {},
   "outputs": [],
   "source": [
    "df0 = pd.read_csv('fish-patterns-db-img.csv')"
   ]
  },
  {
   "cell_type": "code",
   "execution_count": null,
   "metadata": {},
   "outputs": [],
   "source": [
    "print(len(set(df0['family'])), \" families\")\n",
    "print(len(set(df0['genus'])), \" genera\")\n",
    "print(len(set(df0['species'])), \" species\")\n",
    "print(len(df0), \"images\")"
   ]
  },
  {
   "cell_type": "code",
   "execution_count": null,
   "metadata": {
    "scrolled": true
   },
   "outputs": [],
   "source": [
    "df_sp = df0.groupby(['genus', 'species']).sum().applymap(lambda x: 1 if x>0 else 0)\n",
    "spnum = df_sp.reset_index().groupby('genus').count()['species'].rename('sp_num')\n",
    "df_gen = df_sp.groupby(['genus']).sum().applymap(lambda x: 1 if x>0 else 0)\n",
    "\n",
    "df_gen_spnum = pd.merge(spnum.to_frame(), df_gen, on='genus')\n",
    "df_gen_sp2 = df_gen[df_gen_spnum['sp_num']>=2]\n",
    "print(len(df_gen_sp2), \" genera (incl. >=2 sp.)\")\n",
    "\n",
    "df_gen_sp3 = df_gen[df_gen_spnum['sp_num']>=3]\n",
    "print(len(df_gen_sp3), \" genera (incl. >=3 sp.)\")\n"
   ]
  },
  {
   "cell_type": "code",
   "execution_count": null,
   "metadata": {},
   "outputs": [],
   "source": []
  },
  {
   "cell_type": "code",
   "execution_count": null,
   "metadata": {},
   "outputs": [],
   "source": [
    "df_gen_comat = df_gen.T.dot(df_gen)\n",
    "df_gen_comat"
   ]
  },
  {
   "cell_type": "code",
   "execution_count": null,
   "metadata": {},
   "outputs": [],
   "source": [
    "df_gen_sp2_comat = df_gen_sp2.T.dot(df_gen_sp2)\n",
    "df_gen_sp2_comat"
   ]
  },
  {
   "cell_type": "code",
   "execution_count": null,
   "metadata": {},
   "outputs": [],
   "source": [
    "df_gen_sp3_comat = df_gen_sp3.T.dot(df_gen_sp3)\n",
    "df_gen_sp3_comat"
   ]
  },
  {
   "cell_type": "markdown",
   "metadata": {},
   "source": [
    "### Contingency table\n",
    "\n",
    "| Motifs        |B present (1) |B absent (0) |\n",
    "|:-------------:|:-----------:|:------------:|\n",
    "| A present (1) |O<sub>11</sub>|O<sub>10</sub>|A1\n",
    "| A absent  (0) |O<sub>01</sub>|O<sub>00</sub>|A0\n",
    "|               |B1            |B0            |N"
   ]
  },
  {
   "cell_type": "code",
   "execution_count": null,
   "metadata": {},
   "outputs": [],
   "source": [
    "ptns = [\"Mono\",\n",
    "        \"Bltc\",\n",
    "        \"Sp_D\",\n",
    "        \"Sp_L\",\n",
    "        \"Maze\",\n",
    "        \"St_H\",\n",
    "        \"St_D\",\n",
    "        \"St_V\",\n",
    "        \"Sddl\",\n",
    "        \"Eyes\",\n",
    "        \"Area\"]\n",
    "\n",
    "labels = [\"Mono\",\n",
    "          \"Bltc\",\n",
    "          \"Sp-D\",\n",
    "          \"Sp-L\",\n",
    "          \"Maze\",\n",
    "          \"St-H\",\n",
    "          \"St-D\",\n",
    "          \"St-V\",\n",
    "          \"Sddl\",\n",
    "          \"Eyes\",\n",
    "          \"Area\"]\n",
    "\n",
    "svgfiles = [\"ptns_svg/ptn_mono.svg\",\n",
    "            \"ptns_svg/ptn_blotch.svg\",\n",
    "            \"ptns_svg/ptn_spot_dark.svg\",\n",
    "            \"ptns_svg/ptn_spot_light.svg\",\n",
    "            \"ptns_svg/ptn_stripe_maze.svg\", \n",
    "            \"ptns_svg/ptn_stripe_horz.svg\",\n",
    "            \"ptns_svg/ptn_stripe_diag.svg\",\n",
    "            \"ptns_svg/ptn_stripe_vert.svg\",\n",
    "            \"ptns_svg/ptn_saddle.svg\",\n",
    "            \"ptns_svg/ptn_eyespot.svg\",\n",
    "            \"ptns_svg/ptn_area_fill.svg\"]\n",
    "\n",
    "colors = [\"silver\",\n",
    "          \"dimgray\",\n",
    "          \"mediumseagreen\",\n",
    "          \"tomato\",\n",
    "          \"gold\",\n",
    "          \"turquoise\",\n",
    "          \"royalblue\",\n",
    "          \"darkslateblue\",\n",
    "          \"mediumorchid\",\n",
    "          \"pink\",\n",
    "          \"sienna\"]\n"
   ]
  },
  {
   "cell_type": "code",
   "execution_count": null,
   "metadata": {},
   "outputs": [],
   "source": [
    "def contingency_mat(ptnA, ptnB):\n",
    "    n = len(df_gen_sp2)\n",
    "    nA = df_gen_sp2_comat.loc[ptnA, ptnA]\n",
    "    nB = df_gen_sp2_comat.loc[ptnB, ptnB]\n",
    "    kAB = df_gen_sp2_comat.loc[ptnA, ptnB]\n",
    "\n",
    "    obs = np.array([[n-kAB-(nA-kAB)-(nB-kAB), nB-kAB], [nA-kAB, kAB]])\n",
    "    return obs\n"
   ]
  },
  {
   "cell_type": "code",
   "execution_count": null,
   "metadata": {},
   "outputs": [],
   "source": [
    "# Jaccard index\n",
    "df_gen_Jaccard = df_gen_sp2_comat.copy()\n",
    "\n",
    "# Sørensen-Dice coefficient\n",
    "df_gen_Dice = df_gen_sp2_comat.copy()\n",
    "\n",
    "# Overlap coefficient (Szymkiewicz–Simpson coefficient)\n",
    "df_gen_OC = df_gen_sp2_comat.copy()\n",
    "\n",
    "# log-likelihood\n",
    "df_gen_LL = df_gen_sp2_comat.copy()\n",
    "\n",
    "# Z-score (Dennis 1965)\n",
    "df_gen_Z = df_gen_sp2_comat.copy()\n",
    "\n",
    "# T-score (Church et al.1991)\n",
    "df_gen_T = df_gen_sp2_comat.copy()\n",
    "\n",
    "for i in range(11):\n",
    "    for j in range(11):\n",
    "        obs = contingency_mat(ptns[i], ptns[j])\n",
    "\n",
    "        N = obs[1,1] + obs[1,0] + obs[0,1] + obs[0,0]\n",
    "        A1 = obs[1,1] + obs[1,0]\n",
    "        A0 = obs[0,1] + obs[0,0]\n",
    "        B1 = obs[1,1] + obs[0,1]\n",
    "        B0 = obs[1,0] + obs[0,0]\n",
    "        \n",
    "        df_gen_Jaccard.loc[ptns[i], ptns[j]] = obs[1, 1]/(obs[1, 1]+obs[1, 0]+obs[0, 1])\n",
    "        df_gen_Dice.loc[ptns[i], ptns[j]] = 2*obs[1, 1]/(obs[1, 1]+obs[1, 0]+obs[1, 1] + obs[0, 1])\n",
    "        df_gen_OC.loc[ptns[i], ptns[j]] = obs[1, 1]/min(A1, B1)\n",
    "        \n",
    "        LL, p, dof, ex = chi2_contingency(obs, correction=False, lambda_='log-likelihood')\n",
    "        df_gen_LL.loc[ptns[i], ptns[j]] = LL\n",
    "       \n",
    "        # df_gen_Z.loc[ptns[i], ptns[j]] = (obs[1, 1] - ex[1, 1]) / np.sqrt(ex[1, 1]*(1-(A1*B1/N**2)))\n",
    "        df_gen_Z.loc[ptns[i], ptns[j]] = (obs[1, 1] - ex[1, 1]) / np.sqrt(ex[1, 1])\n",
    "        \n",
    "        df_gen_T.loc[ptns[i], ptns[j]] = (obs[1, 1] - ex[1, 1]) / np.sqrt(obs[1, 1])\n",
    "        "
   ]
  },
  {
   "cell_type": "code",
   "execution_count": null,
   "metadata": {},
   "outputs": [],
   "source": [
    "def svg_node(svgfile, nodepos=(0, 0), scale=1.0, r=1.0, mx=0.0, my=0.0, rot=0.0):\n",
    "    svgFig = sg.fromfile(svgfile)\n",
    "\n",
    "    (fw, fh) = svgFig.get_size()\n",
    "    (fw, fh) = (str(sc.Unit(fw).to('px')), str(sc.Unit(fh).to('px')))\n",
    "    (fw, fh) = (float(fw[:-2]), float(fh[:-2]))\n",
    "    \n",
    "    trans = plt.gca().transData.transform\n",
    "    \n",
    "    (fx, fy) = trans((nodepos[0]*r, -nodepos[1]*r))\n",
    "    \n",
    "    out_svgFig = sc.SVG(svgfile)\n",
    "    out_svgFig.rotate(rot, fw/2.0, fh/2.0)\n",
    "    out_svgFig = out_svgFig.scale(scale).move(fx-(fw*scale)/2.0 + mx, fy-(fh*scale)/2.0 + my)\n",
    "    \n",
    "    return out_svgFig\n"
   ]
  },
  {
   "cell_type": "code",
   "execution_count": null,
   "metadata": {},
   "outputs": [],
   "source": [
    "def make_nx_11(measure, dfgen, th, cmap):\n",
    "    sns.set(style=\"white\", context=\"talk\")\n",
    "    fig = plt.figure(figsize=(8, 8))\n",
    "    ax = fig.add_subplot(111)\n",
    "\n",
    "    tempfile = 'temp_11_' + measure + '.svg'\n",
    "    svgfile = 'ptns_network_11_' + measure + '.svg'\n",
    "    pdffile = 'ptns_network_11_' + measure + '.pdf'\n",
    "\n",
    "    G = nx.Graph()\n",
    "\n",
    "    for i in range(11):\n",
    "        G.add_node(labels[i])\n",
    "    \n",
    "    for i in range(11):\n",
    "        for j in range(11):\n",
    "            if (i!=j):\n",
    "                if dfgen.iloc[i,j] >= th:\n",
    "                    G.add_edge(labels[i], labels[j], weight=dfgen.iloc[i,j])\n",
    "\n",
    "    edge_Ws = np.array([edge[2]['weight'] for edge in G.edges(data=True)])\n",
    "\n",
    "    pos = nx.circular_layout(G, scale=0.8)\n",
    "\n",
    "    nx.draw_networkx_nodes(G, pos,\n",
    "                           node_shape='o',\n",
    "                           node_size=500,\n",
    "                           node_color='white',\n",
    "                           linewidths=5.0,\n",
    "                           edgecolors=colors)\n",
    "    nx.draw_networkx_edges(G, pos,\n",
    "                           width=15*edge_Ws/max(edge_Ws),\n",
    "                           alpha=0.8,\n",
    "                           edge_cmap=cmap,\n",
    "                           edge_vmin=0.0,\n",
    "                           edge_vmax=max(edge_Ws),\n",
    "                           edge_color=edge_Ws)\n",
    "\n",
    "    plt.axis('off')\n",
    "\n",
    "    plt.savefig(tempfile, transparent=True)\n",
    "\n",
    "    scale=0.9\n",
    "    r=1.35\n",
    "    mx=30\n",
    "    my=30\n",
    "\n",
    "    svg_nodes = [svg_node(svgfiles[i], pos[labels[i]], scale, r, mx, my, 0) for i in range(11)]\n",
    "    svg_nodes[0] = svg_node(svgfiles[0], pos[labels[0]], scale, r, mx, my, -3)     # Mono\n",
    "    svg_nodes[1] = svg_node(svgfiles[1], pos[labels[1]], scale, r, mx, my, 10)     # Blch\n",
    "    svg_nodes[2] = svg_node(svgfiles[2], pos[labels[2]], scale, r, mx, my, 5)     # Sp_D\n",
    "    svg_nodes[3] = svg_node(svgfiles[3], pos[labels[3]], scale, r, mx, my+5, 15)     # Sp_L\n",
    "    svg_nodes[4] = svg_node(svgfiles[4], pos[labels[4]], scale, r, mx, my, 5)     # Maze\n",
    "    svg_nodes[5] = svg_node(svgfiles[5], pos[labels[5]], scale, r, mx, my, 5)     # St_H\n",
    "    svg_nodes[6] = svg_node(svgfiles[6], pos[labels[6]], scale, r, mx, my, -10)     # St_D\n",
    "    svg_nodes[7] = svg_node(svgfiles[7], pos[labels[7]], scale, r, mx, my, 0)     # St_V\n",
    "    svg_nodes[8] = svg_node(svgfiles[8], pos[labels[8]], scale, r, mx, my-10, -5)     # Sddl\n",
    "    svg_nodes[9] = svg_node(svgfiles[9], pos[labels[9]], scale, r, mx, my-8, 0)     # Eyes\n",
    "    svg_nodes[10] = svg_node(svgfiles[10], pos[labels[10]], scale, r, mx, my, 10)     # Area\n",
    "\n",
    "    sc.Figure(\"18.5cm\", \"18cm\",\n",
    "              sc.SVG(tempfile).move(mx, my),\n",
    "              svg_nodes[0],\n",
    "              svg_nodes[1],\n",
    "              svg_nodes[2],\n",
    "              svg_nodes[3],\n",
    "              svg_nodes[4],\n",
    "              svg_nodes[5],\n",
    "              svg_nodes[6],\n",
    "              svg_nodes[7],\n",
    "              svg_nodes[8],\n",
    "              svg_nodes[9],\n",
    "              svg_nodes[10],\n",
    "             ).save(svgfile)\n",
    "    \n",
    "    !inkscape --export-pdf=$pdffile $svgfile\n",
    "\n",
    "    return svgfile\n"
   ]
  },
  {
   "cell_type": "code",
   "execution_count": null,
   "metadata": {},
   "outputs": [],
   "source": [
    "def make_nx_7(measure, dfgen, th, cmap):\n",
    "    sns.set(style=\"white\", context=\"talk\")\n",
    "    fig = plt.figure(figsize=(8, 8))\n",
    "    ax = fig.add_subplot(111)\n",
    "\n",
    "    tempfile = 'temp_7_' + measure + '.svg'\n",
    "    svgfile = 'ptns_network_7_' + measure + '.svg'\n",
    "    pdffile = 'ptns_network_7_' + measure + '.pdf'\n",
    "\n",
    "    G = nx.DiGraph()\n",
    "\n",
    "    for i in [1, 2, 3, 4, 5, 6, 7]:\n",
    "        G.add_node(labels[i])\n",
    "    \n",
    "    for i in [1, 2, 3, 4, 5, 6]:\n",
    "        for j in range(i, 7):\n",
    "            if (i!=j):\n",
    "                if dfgen.iloc[i,j] >= th:\n",
    "                    G.add_edge(labels[i], labels[j], weight=dfgen.iloc[i,j])\n",
    "    for i in [1, 2, 3, 4, 5]:\n",
    "        for j in [7]:\n",
    "            if dfgen.iloc[j,i] >= th:\n",
    "                G.add_edge(labels[j], labels[i], weight=dfgen.iloc[j,i])\n",
    "    for i in [6]:\n",
    "        for j in [7]:\n",
    "            if dfgen.iloc[i,j] >= th:\n",
    "                G.add_edge(labels[i], labels[j], weight=dfgen.iloc[i,j])\n",
    "\n",
    "    edge_Ws = np.array([edge[2]['weight'] for edge in G.edges(data=True)])\n",
    "\n",
    "    pos = nx.shell_layout(G, scale=1.0)\n",
    "\n",
    "    nx.draw_networkx_nodes(G, pos,\n",
    "                           node_shape='o',\n",
    "                           node_size=800,\n",
    "                           node_color='white',\n",
    "                           linewidths=10.0,\n",
    "                           edgecolors=colors[1:8])\n",
    "\n",
    "    nx.draw_networkx_edges(G, pos,\n",
    "                           width=15*edge_Ws/max(edge_Ws),\n",
    "                           alpha=0.8,\n",
    "                           edge_cmap=cmap,\n",
    "                           edge_vmin=0.0,\n",
    "                           edge_vmax=max(edge_Ws),\n",
    "                           edge_color=edge_Ws,\n",
    "                           arrows=True,\n",
    "                           arrowstyle='-',\n",
    "                           arrowsize=10,\n",
    "                           connectionstyle='arc3, rad=-0.12')\n",
    "\n",
    "    # nx.draw_networkx_labels(G, pos, font_size=16)\n",
    "\n",
    "    plt.axis('off')\n",
    "\n",
    "    plt.savefig(tempfile, transparent=True)\n",
    "\n",
    "    scale=0.9\n",
    "    r=1.35\n",
    "    mx=30\n",
    "    my=30\n",
    "\n",
    "    svg_nodes = [svg_node(svgfiles[i], pos[labels[i]], scale, r, mx, my, 0) for i in range(1, 8)]\n",
    "    svg_nodes[0] = svg_node(svgfiles[1], pos[labels[1]], scale, r, mx+8, my, 15)     # Blch\n",
    "    svg_nodes[1] = svg_node(svgfiles[2], pos[labels[2]], scale, r, mx, my-5, 15)     # Sp_D\n",
    "    svg_nodes[2] = svg_node(svgfiles[3], pos[labels[3]], scale, r, mx+5, my, 10)     # Sp_L\n",
    "    svg_nodes[3] = svg_node(svgfiles[4], pos[labels[4]], scale, r, mx+5, my-7, -15)     # Maze\n",
    "    svg_nodes[4] = svg_node(svgfiles[5], pos[labels[5]], scale, r, mx+7, my+5, 5)     # St_H\n",
    "    svg_nodes[5] = svg_node(svgfiles[6], pos[labels[6]], scale, r, mx+10, my-5, 0)     # St_D\n",
    "    svg_nodes[6] = svg_node(svgfiles[7], pos[labels[7]], scale, r, mx, my-5, 0)     # St_V\n",
    "\n",
    "    sc.Figure(\"18.5cm\", \"18cm\",\n",
    "              sc.SVG(tempfile).move(mx, my),\n",
    "              svg_nodes[0],\n",
    "              svg_nodes[1],\n",
    "              svg_nodes[2],\n",
    "              svg_nodes[3],\n",
    "              svg_nodes[4],\n",
    "              svg_nodes[5],\n",
    "              svg_nodes[6],\n",
    "             ).save(svgfile)\n",
    "\n",
    "    !inkscape --export-pdf=$pdffile $svgfile\n",
    "\n",
    "    return svgfile\n"
   ]
  },
  {
   "cell_type": "markdown",
   "metadata": {},
   "source": [
    "### Co-occurrence frequency"
   ]
  },
  {
   "cell_type": "code",
   "execution_count": null,
   "metadata": {},
   "outputs": [],
   "source": [
    "df_gen_comat"
   ]
  },
  {
   "cell_type": "code",
   "execution_count": null,
   "metadata": {
    "scrolled": false
   },
   "outputs": [],
   "source": [
    "sns.set_context('talk')\n",
    "plt.figure(figsize=(15, 12))\n",
    "\n",
    "mask = np.eye(df_gen_comat.shape[0], dtype=np.bool)\n",
    "ax = sns.heatmap(df_gen_comat,\n",
    "                 mask=mask,\n",
    "                 vmax=700,\n",
    "                 square=True,\n",
    "                 fmt='d',\n",
    "                 annot=True,\n",
    "                 linewidth=1.0,\n",
    "                 cmap='Greys',\n",
    "                 rasterized=True)\n",
    "\n",
    "plt.title('Co-occurrence frequency', fontsize=24)\n",
    "\n",
    "ax.set_xticklabels(labels, rotation=0, fontsize=22)\n",
    "ax.set_yticklabels(labels, rotation=0, fontsize=22)\n",
    "\n",
    "plt.show()"
   ]
  },
  {
   "cell_type": "code",
   "execution_count": null,
   "metadata": {},
   "outputs": [],
   "source": [
    "make_nx_11('Freq', df_gen_comat, 0, plt.cm.Greys)"
   ]
  },
  {
   "cell_type": "code",
   "execution_count": null,
   "metadata": {},
   "outputs": [],
   "source": [
    "make_nx_7('Freq', df_gen_comat, 0, plt.cm.Greys)"
   ]
  },
  {
   "cell_type": "markdown",
   "metadata": {},
   "source": [
    "### Jaccard index"
   ]
  },
  {
   "cell_type": "code",
   "execution_count": null,
   "metadata": {},
   "outputs": [],
   "source": [
    "df_gen_Jaccard"
   ]
  },
  {
   "cell_type": "code",
   "execution_count": null,
   "metadata": {
    "scrolled": false
   },
   "outputs": [],
   "source": [
    "sns.set_context('talk')\n",
    "plt.figure(figsize=(15, 12))\n",
    "\n",
    "mask = np.eye(df_gen_Jaccard.shape[0], dtype=np.bool)\n",
    "ax = sns.heatmap(df_gen_Jaccard,\n",
    "                 mask=mask,\n",
    "                 vmax = 0.40,\n",
    "                 square=True,\n",
    "                 fmt='.2f',\n",
    "                 annot=True,\n",
    "                 linewidth=1.0,\n",
    "                 cmap='Purples',\n",
    "                 rasterized=True)\n",
    "\n",
    "plt.title('Jaccard index', fontsize=24)\n",
    "\n",
    "ax.set_xticklabels(labels, rotation=0, fontsize=22)\n",
    "ax.set_yticklabels(labels, rotation=0, fontsize=22)\n",
    "\n",
    "plt.show()"
   ]
  },
  {
   "cell_type": "code",
   "execution_count": null,
   "metadata": {},
   "outputs": [],
   "source": [
    "make_nx_11('Jaccard', df_gen_Jaccard, 0.12, plt.cm.Purples)"
   ]
  },
  {
   "cell_type": "code",
   "execution_count": null,
   "metadata": {},
   "outputs": [],
   "source": [
    "make_nx_7('Jaccard', df_gen_Jaccard, 0.0, plt.cm.Purples)"
   ]
  },
  {
   "cell_type": "markdown",
   "metadata": {},
   "source": [
    "### Sørensen–Dice coefficient"
   ]
  },
  {
   "cell_type": "code",
   "execution_count": null,
   "metadata": {},
   "outputs": [],
   "source": [
    "df_gen_Dice"
   ]
  },
  {
   "cell_type": "code",
   "execution_count": null,
   "metadata": {
    "scrolled": false
   },
   "outputs": [],
   "source": [
    "sns.set_context('talk')\n",
    "plt.figure(figsize=(15, 12))\n",
    "\n",
    "mask = np.eye(df_gen_Dice.shape[0], dtype=np.bool)\n",
    "ax = sns.heatmap(df_gen_Dice,\n",
    "                 mask=mask,\n",
    "                 vmax = 0.6,\n",
    "                 square=True,\n",
    "                 fmt='.2f',\n",
    "                 annot=True,\n",
    "                 linewidth=1.0,\n",
    "                 cmap='Greens',\n",
    "                 rasterized=True)\n",
    "\n",
    "plt.title('Sørensen–Dice coefficient', fontsize=24)\n",
    "\n",
    "ax.set_xticklabels(labels, rotation=0, fontsize=22)\n",
    "ax.set_yticklabels(labels, rotation=0, fontsize=22)\n",
    "\n",
    "plt.show()"
   ]
  },
  {
   "cell_type": "code",
   "execution_count": null,
   "metadata": {},
   "outputs": [],
   "source": [
    "make_nx_11('Dice', df_gen_Dice, 0.25, plt.cm.Greens)"
   ]
  },
  {
   "cell_type": "code",
   "execution_count": null,
   "metadata": {},
   "outputs": [],
   "source": [
    "make_nx_7('Dice', df_gen_Dice, 0.0, plt.cm.Greens)"
   ]
  },
  {
   "cell_type": "markdown",
   "metadata": {},
   "source": [
    "### Overlap coefficient (Szymkiewicz–Simpson coefficient)"
   ]
  },
  {
   "cell_type": "code",
   "execution_count": null,
   "metadata": {},
   "outputs": [],
   "source": [
    "df_gen_OC"
   ]
  },
  {
   "cell_type": "code",
   "execution_count": null,
   "metadata": {
    "scrolled": false
   },
   "outputs": [],
   "source": [
    "sns.set_context('talk')\n",
    "plt.figure(figsize=(15, 12))\n",
    "\n",
    "mask = np.eye(df_gen_OC.shape[0], dtype=np.bool)\n",
    "ax = sns.heatmap(df_gen_OC,\n",
    "                 mask=mask,\n",
    "                 vmax = 0.8,\n",
    "                 square=True,\n",
    "                 fmt='.2f',\n",
    "                 annot=True,\n",
    "                 linewidth=1.0,\n",
    "                 cmap='RdPu',\n",
    "                 rasterized=True)\n",
    "\n",
    "plt.title('Overlap coefficient', fontsize=24)\n",
    "\n",
    "ax.set_xticklabels(labels, rotation=0, fontsize=22)\n",
    "ax.set_yticklabels(labels, rotation=0, fontsize=22)\n",
    "\n",
    "plt.show()"
   ]
  },
  {
   "cell_type": "code",
   "execution_count": null,
   "metadata": {},
   "outputs": [],
   "source": [
    "make_nx_11('OC', df_gen_OC, 0.3, plt.cm.RdPu)"
   ]
  },
  {
   "cell_type": "code",
   "execution_count": null,
   "metadata": {},
   "outputs": [],
   "source": [
    "make_nx_7('OC', df_gen_OC, 0.0, plt.cm.RdPu)"
   ]
  },
  {
   "cell_type": "markdown",
   "metadata": {},
   "source": [
    "### Log-likelihood"
   ]
  },
  {
   "cell_type": "code",
   "execution_count": null,
   "metadata": {
    "scrolled": true
   },
   "outputs": [],
   "source": [
    "df_gen_LL"
   ]
  },
  {
   "cell_type": "code",
   "execution_count": null,
   "metadata": {
    "scrolled": false
   },
   "outputs": [],
   "source": [
    "sns.set_context('talk')\n",
    "plt.figure(figsize=(15, 12))\n",
    "\n",
    "mask = np.eye(df_gen_LL.shape[0], dtype=np.bool)\n",
    "ax = sns.heatmap(df_gen_LL,\n",
    "                 mask=mask,\n",
    "                 vmax = 270,\n",
    "                 square=True,\n",
    "                 fmt='.1f',\n",
    "                 annot=True,\n",
    "                 linewidth=1.0,\n",
    "                 cmap='Reds',\n",
    "                 rasterized=True)\n",
    "\n",
    "plt.title('Log-likelihood', fontsize=24)\n",
    "\n",
    "ax.set_xticklabels(labels, rotation=0, fontsize=22)\n",
    "ax.set_yticklabels(labels, rotation=0, fontsize=22)\n",
    "\n",
    "plt.show()"
   ]
  },
  {
   "cell_type": "code",
   "execution_count": null,
   "metadata": {},
   "outputs": [],
   "source": [
    "make_nx_11('LL', df_gen_LL, 3.84, plt.cm.Reds)"
   ]
  },
  {
   "cell_type": "code",
   "execution_count": null,
   "metadata": {
    "scrolled": false
   },
   "outputs": [],
   "source": [
    "make_nx_7('LL', df_gen_LL, 0, plt.cm.Reds)"
   ]
  },
  {
   "cell_type": "markdown",
   "metadata": {},
   "source": [
    "### Z-score (Dennis1965)"
   ]
  },
  {
   "cell_type": "code",
   "execution_count": null,
   "metadata": {},
   "outputs": [],
   "source": [
    "df_gen_Z"
   ]
  },
  {
   "cell_type": "code",
   "execution_count": null,
   "metadata": {
    "scrolled": false
   },
   "outputs": [],
   "source": [
    "sns.set_context('talk')\n",
    "plt.figure(figsize=(15, 12))\n",
    "\n",
    "mask = np.eye(df_gen_Z.shape[0], dtype=np.bool)\n",
    "ax = sns.heatmap(df_gen_Z, mask=mask,\n",
    "                 vmin = 0.0,\n",
    "                 vmax = 12.5,\n",
    "                 square=True,\n",
    "                 fmt='.1f',\n",
    "                 annot=True,\n",
    "                 linewidth=1.0,\n",
    "                 cmap='Blues',\n",
    "                 rasterized=True)\n",
    "plt.title('Z-score (Dennis1965)', fontsize=24)\n",
    "\n",
    "ax.set_xticklabels(labels, rotation=0, fontsize=22)\n",
    "ax.set_yticklabels(labels, rotation=0, fontsize=22)\n",
    "\n",
    "plt.show()"
   ]
  },
  {
   "cell_type": "code",
   "execution_count": null,
   "metadata": {},
   "outputs": [],
   "source": [
    "make_nx_11('Z', df_gen_Z, 1.96, plt.cm.Blues)"
   ]
  },
  {
   "cell_type": "code",
   "execution_count": null,
   "metadata": {},
   "outputs": [],
   "source": [
    "make_nx_7('Z', df_gen_Z, 0, plt.cm.Blues)"
   ]
  },
  {
   "cell_type": "markdown",
   "metadata": {},
   "source": [
    "### T-score"
   ]
  },
  {
   "cell_type": "code",
   "execution_count": null,
   "metadata": {},
   "outputs": [],
   "source": [
    "df_gen_T"
   ]
  },
  {
   "cell_type": "code",
   "execution_count": null,
   "metadata": {
    "scrolled": false
   },
   "outputs": [],
   "source": [
    "sns.set_context('talk')\n",
    "plt.figure(figsize=(15, 12))\n",
    "\n",
    "mask = np.eye(df_gen_T.shape[0], dtype=np.bool)\n",
    "ax = sns.heatmap(df_gen_T, mask=mask,\n",
    "                 vmin = 0.0,\n",
    "                 vmax = 8.5,\n",
    "                 square=True,\n",
    "                 fmt='.1f',\n",
    "                 annot=True,\n",
    "                 linewidth=1.0,\n",
    "                 cmap='Oranges',\n",
    "                 rasterized=True)\n",
    "plt.title('T-score', fontsize=24)\n",
    "\n",
    "ax.set_xticklabels(labels, rotation=0, fontsize=22)\n",
    "ax.set_yticklabels(labels, rotation=0, fontsize=22)\n",
    "\n",
    "plt.show()"
   ]
  },
  {
   "cell_type": "code",
   "execution_count": null,
   "metadata": {},
   "outputs": [],
   "source": [
    "make_nx_11('T', df_gen_T, 1.96, plt.cm.Oranges)"
   ]
  },
  {
   "cell_type": "code",
   "execution_count": null,
   "metadata": {},
   "outputs": [],
   "source": [
    "make_nx_7('T', df_gen_T, 0.0, plt.cm.Oranges)"
   ]
  },
  {
   "cell_type": "code",
   "execution_count": null,
   "metadata": {},
   "outputs": [],
   "source": [
    "from mpl_toolkits.axes_grid1.axes_divider import make_axes_locatable\n",
    "from mpl_toolkits.axes_grid1.colorbar import colorbar\n",
    "\n",
    "def combi_hm(df_l, measure_l, label_l, cmap_l, vmax_l, \n",
    "             df_u, measure_u, label_u, cmap_u, vmax_u):\n",
    "\n",
    "    sns.set_context('talk')\n",
    "    plt.figure(figsize=(15, 12))\n",
    "    plt.yticks=True\n",
    "\n",
    "    svgfile = 'co-occ_' + measure_l + '-' + measure_u + '_200713.svg'\n",
    "    pdffile = 'co-occ_' + measure_l + '-' + measure_u + '_200713.pdf'\n",
    "    \n",
    "    mask_u = np.eye(df_l.shape[0], dtype=np.bool)\n",
    "    mask_l = np.eye(df_l.shape[0], dtype=np.bool)\n",
    "    mask_u[np.triu_indices_from(mask_u)] = True\n",
    "    mask_l[np.tril_indices_from(mask_l)] = True\n",
    "\n",
    "    ax = sns.heatmap(df_l,\n",
    "                     mask=mask_u,\n",
    "                     vmax=vmax_l, \n",
    "                     square=True,\n",
    "                     linewidth=0.0,\n",
    "                     cmap=cmap_l,\n",
    "                     cbar=False)\n",
    "\n",
    "    sns.heatmap(df_u,\n",
    "                mask=mask_l,\n",
    "                vmax=vmax_u, \n",
    "                square=True,\n",
    "                linewidth=0.0,\n",
    "                ax=ax,\n",
    "                cmap=cmap_u,\n",
    "                cbar=False)\n",
    "\n",
    "    ax_divider = make_axes_locatable(ax)\n",
    "    cax1 = ax_divider.append_axes('bottom', size='5%', pad='5%')\n",
    "    cax2 = ax_divider.append_axes('right', size='5%', pad='5%')\n",
    "\n",
    "    cbar1 = colorbar(ax.get_children()[0], cax=cax1, orientation='horizontal')\n",
    "    cbar1.solids.set_rasterized(True)\n",
    "    cax1.set_xlabel(label_l, fontsize=32)\n",
    "    cax1.yaxis.set_label_position('right')\n",
    "    cax1.tick_params(length=0)\n",
    "\n",
    "    cbar2 = colorbar(ax.get_children()[1], cax=cax2, orientation='vertical')\n",
    "    cbar2.solids.set_rasterized(True)\n",
    "    cax2.set_ylabel(label_u, fontsize=32)\n",
    "    cax2.xaxis.set_label_position('bottom')\n",
    "    cax2.tick_params(length=0)\n",
    "\n",
    "    for i in range(10):\n",
    "        ax.axhline(i+1, linewidth=2.0, color='black')\n",
    "        ax.axvline(10-i, linewidth=2.0, color='black')\n",
    "    \n",
    "    \n",
    "    # ax.hlines([1, 2], *ax.get_xlim())\n",
    "    ax.xaxis.set_ticks_position('top')\n",
    "    ax.set_xticklabels(labels, fontsize=32, rotation=60, fontname='monospace')\n",
    "    ax.set_yticklabels(labels, fontsize=32, rotation=0, fontname='monospace')\n",
    "\n",
    "    # plt.show()\n",
    "    plt.savefig(pdffile, bbox_inches=\"tight\", pad_inches=0.1)"
   ]
  },
  {
   "cell_type": "code",
   "execution_count": null,
   "metadata": {},
   "outputs": [],
   "source": [
    "combi_hm(df_gen_LL, 'LL', 'Log-likelihood', 'Reds', 270,\n",
    "         df_gen_Jaccard, 'JI', 'Jaccard', 'Purples', 0.35)"
   ]
  },
  {
   "cell_type": "code",
   "execution_count": null,
   "metadata": {},
   "outputs": [],
   "source": [
    "combi_hm(df_gen_T, 'T', 'T-score', 'Oranges', 8.5,\n",
    "         df_gen_Dice, 'Dice', 'Sørensen–Dice coefficient', 'Greens', 0.50)"
   ]
  },
  {
   "cell_type": "code",
   "execution_count": null,
   "metadata": {},
   "outputs": [],
   "source": [
    "combi_hm(df_gen_comat, 'Freq', 'Co-occurrence frequency', 'Greys', 700,\n",
    "         df_gen_OC, 'OC', 'Simpson similarity index', 'RdPu', 0.8)"
   ]
  },
  {
   "cell_type": "code",
   "execution_count": null,
   "metadata": {},
   "outputs": [],
   "source": [
    "combi_hm(df_gen_Z, 'Z', 'Z-score', 'Blues', 12.5,\n",
    "         df_gen_comat, 'Freq', 'Co-occurrence frequency', 'Greys', 700)"
   ]
  },
  {
   "cell_type": "markdown",
   "metadata": {},
   "source": [
    "## Triple co-occurrence analysis\n",
    "### (Sp_L & Sp_D) vs pattern C"
   ]
  },
  {
   "cell_type": "code",
   "execution_count": null,
   "metadata": {},
   "outputs": [],
   "source": []
  },
  {
   "cell_type": "code",
   "execution_count": null,
   "metadata": {},
   "outputs": [],
   "source": [
    "def co_occ_sp3_measures_vs_AB(A='Sp_L', B='Sp_D', C='Maze'):\n",
    "    ABC = len(df_gen_sp3[(df_gen_sp3[A]==1) & (df_gen_sp3[B]==1) & (df_gen_sp3[C]==1)])\n",
    "    abC = len(df_gen_sp3[((df_gen_sp3[A]==0) | (df_gen_sp3[B]==0)) & (df_gen_sp3[C]==1)])\n",
    "    ABc = len(df_gen_sp3[(df_gen_sp3[A]==1) & (df_gen_sp3[B]==1) & (df_gen_sp3[C]==0)])\n",
    "    abc = len(df_gen_sp3[((df_gen_sp3[A]==0) | (df_gen_sp3[B]==0)) & (df_gen_sp3[C]==0)])\n",
    "\n",
    "    cntmat = np.array([[ABC, abC], [ABc, abc]])\n",
    "    \n",
    "    Freq = ABC\n",
    "\n",
    "    JI = ABC / (ABC + abC + ABc)\n",
    "    Dice = 2*ABC / ((ABC+abC) + (ABC+ABc))\n",
    "    OC = ABC / min((ABC+ABc), (ABC+abC))\n",
    "\n",
    "    LL, p, dof, ex = chi2_contingency(cntmat, correction=False, lambda_='log-likelihood')\n",
    "    Z = (ABC - ex[0, 0]) / np.sqrt(ex[0, 0])\n",
    "    T = (ABC - ex[0, 0]) / np.sqrt(ABC)\n",
    "\n",
    "    return cntmat, Freq, JI, Dice, OC, LL, Z, T"
   ]
  },
  {
   "cell_type": "code",
   "execution_count": null,
   "metadata": {},
   "outputs": [],
   "source": [
    "A = 'Sp_L'\n",
    "B = 'Sp_D'\n",
    "\n",
    "df_coocc_sp3_vs_Sp_LD = pd.DataFrame(\n",
    "    [co_occ_sp3_measures_vs_AB(A, B, 'Mono')[1:],\n",
    "     co_occ_sp3_measures_vs_AB(A, B, 'Bltc')[1:],\n",
    "     co_occ_sp3_measures_vs_AB(A, B, 'Maze')[1:],\n",
    "     co_occ_sp3_measures_vs_AB(A, B, 'St_H')[1:],\n",
    "     co_occ_sp3_measures_vs_AB(A, B, 'St_D')[1:],\n",
    "     co_occ_sp3_measures_vs_AB(A, B, 'St_V')[1:],\n",
    "     co_occ_sp3_measures_vs_AB(A, B, 'Sddl')[1:],\n",
    "     co_occ_sp3_measures_vs_AB(A, B, 'Eyes')[1:],\n",
    "     co_occ_sp3_measures_vs_AB(A, B, 'Area')[1:]],\n",
    "    index=[\"Mono\", \"Bltc\", 'Maze', 'St-H', 'St-D', 'St-V', 'Sddl', \"Eyes\", \"Area\"],\n",
    "    columns=['Freq', 'Jaccard', 'Dice', 'Simpson', 'Log-likelihood', 'Z-score', 'T-score']\n",
    ")\n"
   ]
  },
  {
   "cell_type": "code",
   "execution_count": null,
   "metadata": {},
   "outputs": [],
   "source": [
    "df_coocc_sp3_vs_Sp_LD"
   ]
  },
  {
   "cell_type": "code",
   "execution_count": null,
   "metadata": {},
   "outputs": [],
   "source": [
    "sns.set_context(\"talk\")\n",
    "sns.set_style(\"ticks\")\n",
    "\n",
    "fig, axes = plt.subplots(3, 1, figsize=(3.5, 7), sharex=True)\n",
    "\n",
    "sns.barplot(x=df_coocc_sp3_vs_Sp_LD['Z-score'].index,\n",
    "            y=df_coocc_sp3_vs_Sp_LD['Z-score'],\n",
    "            color=sns.color_palette('Blues')[3],\n",
    "            ax=axes[2])\n",
    "axes[2].set_ylabel(\"Z-score\", fontsize=18)\n",
    "axes[2].tick_params(labelsize=11)\n",
    "\n",
    "sns.barplot(x=df_coocc_sp3_vs_Sp_LD['Log-likelihood'].index,\n",
    "            y=df_coocc_sp3_vs_Sp_LD['Log-likelihood'],\n",
    "            color=sns.color_palette('Reds')[3],\n",
    "            ax=axes[1])\n",
    "axes[1].set_ylabel(\"Log-likelihood\", fontsize=18)\n",
    "axes[1].tick_params(labelsize=11)\n",
    "\n",
    "sns.barplot(x=df_coocc_sp3_vs_Sp_LD['Jaccard'].index,\n",
    "            y=df_coocc_sp3_vs_Sp_LD['Jaccard'],\n",
    "            color=sns.color_palette('Purples')[3],\n",
    "            ax=axes[0])\n",
    "axes[0].set_ylabel(\"Jaccard\", fontsize=18)\n",
    "axes[0].tick_params(labelsize=11)\n",
    "\n",
    "plt.xlim(-0.6, 8.6)\n",
    "plt.xticks=True\n",
    "plt.setp(axes[2].xaxis.get_majorticklabels(), rotation=90, fontsize=18)\n",
    "\n",
    "\n",
    "plt.show()\n",
    "# plt.savefig('co-occ_triple_Z-LL-JI.pdf', bbox_inches=\"tight\", pad_inches=0.1)"
   ]
  },
  {
   "cell_type": "code",
   "execution_count": null,
   "metadata": {},
   "outputs": [],
   "source": [
    "sns.set_context(\"talk\")\n",
    "sns.set_style(\"ticks\")\n",
    "\n",
    "fig, axes = plt.subplots(1, 4, figsize=(12, 4), sharey=True)\n",
    "\n",
    "sns.barplot(x=df_coocc_sp3_vs_Sp_LD['Freq'].iloc[::-1],\n",
    "            y=df_coocc_sp3_vs_Sp_LD['Freq'].iloc[::-1].index,\n",
    "            color=sns.color_palette('Greys')[2],\n",
    "            ax=axes[0])\n",
    "axes[0].set_xlabel(\"Raw freq\")\n",
    "\n",
    "sns.barplot(x=df_coocc_sp3_vs_Sp_LD['Simpson'].iloc[::-1],\n",
    "            y=df_coocc_sp3_vs_Sp_LD['Simpson'].iloc[::-1].index,\n",
    "            color=sns.color_palette('RdPu')[3],\n",
    "            ax=axes[1])\n",
    "axes[1].set_xlabel(\"Simpson\")\n",
    "\n",
    "sns.barplot(x=df_coocc_sp3_vs_Sp_LD['T-score'].iloc[::-1],\n",
    "            y=df_coocc_sp3_vs_Sp_LD['T-score'].iloc[::-1].index,\n",
    "            color=sns.color_palette('Oranges')[3],\n",
    "            ax=axes[2])\n",
    "axes[2].set_xlabel(\"T-score\")\n",
    "\n",
    "sns.barplot(x=df_coocc_sp3_vs_Sp_LD['Dice'].iloc[::-1],\n",
    "            y=df_coocc_sp3_vs_Sp_LD['Dice'].iloc[::-1].index,\n",
    "            color=sns.color_palette('Greens')[3],\n",
    "            ax=axes[3])\n",
    "axes[3].set_xlabel(\"Sørensen–Dice\")\n",
    "\n",
    "plt.ylim(-0.6, 8.6)\n",
    "plt.yticks=True\n",
    "plt.setp(axes[3].yaxis.get_majorticklabels(), rotation=90)\n",
    "\n",
    "plt.show()\n",
    "# plt.savefig('co-occ_triple_Freq-OC-T-Dice.pdf', bbox_inches=\"tight\", pad_inches=0.1)"
   ]
  },
  {
   "cell_type": "code",
   "execution_count": null,
   "metadata": {},
   "outputs": [],
   "source": []
  },
  {
   "cell_type": "markdown",
   "metadata": {},
   "source": [
    "#### Response to Reviews\n",
    "## Triple co-occurrence analysis\n",
    "### (motif A & motif B) vs motif C"
   ]
  },
  {
   "cell_type": "code",
   "execution_count": null,
   "metadata": {},
   "outputs": [],
   "source": [
    "def tri_allplots(df, ptns, savefile=\"out.pdf\"):\n",
    "    sns.set_context(\"talk\")\n",
    "    sns.set_style(\"ticks\")\n",
    "\n",
    "    fig, axes = plt.subplots(1, 7, figsize=(16, 4), sharey=True)\n",
    "\n",
    "    sns.barplot(x=df['Freq'].iloc[::-1],\n",
    "                y=df['Freq'].iloc[::-1].index,\n",
    "                color=sns.color_palette('Greys')[2],\n",
    "                ax=axes[0])\n",
    "    axes[0].set_xlabel(\"Raw freq\")\n",
    "    axes[0].set_ylabel(ptns)\n",
    "    axes[0].set_xlim(0, 280)\n",
    "    \n",
    "    sns.barplot(x=df['Simpson'].iloc[::-1],\n",
    "                y=df['Simpson'].iloc[::-1].index,\n",
    "                color=sns.color_palette('RdPu')[3],\n",
    "                ax=axes[1])\n",
    "    axes[1].set_xlabel(\"Simpson\")\n",
    "    axes[1].set_xlim(0, 0.8)\n",
    "    \n",
    "    sns.barplot(x=df['Jaccard'].iloc[::-1],\n",
    "                y=df['Jaccard'].iloc[::-1].index,\n",
    "                color=sns.color_palette('Purples')[3],\n",
    "                ax=axes[2])\n",
    "    axes[2].set_xlabel(\"Jaccard\")\n",
    "    axes[2].set_xlim(0, 0.35)\n",
    "    \n",
    "    sns.barplot(x=df['Dice'].iloc[::-1],\n",
    "                y=df['Dice'].iloc[::-1].index,\n",
    "                color=sns.color_palette('Greens')[3],\n",
    "                ax=axes[3])\n",
    "    axes[3].set_xlabel(\"Dice\")\n",
    "    axes[3].set_xlim(0, 0.52)\n",
    "    \n",
    "    sns.barplot(x=df['Z-score'].iloc[::-1],\n",
    "                y=df['Z-score'].iloc[::-1].index,\n",
    "                color=sns.color_palette('Blues')[3],\n",
    "                ax=axes[4])\n",
    "    axes[4].set_xlabel(\"Z-score\")\n",
    "    axes[4].set_xlim(-3.0, 12.5)\n",
    "    \n",
    "    sns.barplot(x=df['T-score'].iloc[::-1],\n",
    "                y=df['T-score'].iloc[::-1].index,\n",
    "                color=sns.color_palette('Oranges')[3],\n",
    "                ax=axes[5])\n",
    "    axes[5].set_xlabel(\"T-score\")\n",
    "    axes[5].set_xlim(-3.5, 8.0)\n",
    "    \n",
    "    sns.barplot(x=df['Log-likelihood'].iloc[::-1],\n",
    "                y=df['Log-likelihood'].iloc[::-1].index,\n",
    "                color=sns.color_palette('Reds')[3],\n",
    "                ax=axes[6])\n",
    "    axes[6].set_xlabel(\"Log-likelihood\")\n",
    "    axes[6].set_xlim(0, 200)\n",
    "    \n",
    "    # plt.suptitle('Triple co-occurrence with ' + ptns)\n",
    "    plt.ylim(-0.6, 8.6)\n",
    "    plt.yticks=True\n",
    "    plt.setp(axes[6].yaxis.get_majorticklabels(), rotation=90)\n",
    "    \n",
    "    plt.show()\n",
    "    # plt.savefig(savefile, bbox_inches=\"tight\", pad_inches=0.1)"
   ]
  },
  {
   "cell_type": "code",
   "execution_count": null,
   "metadata": {},
   "outputs": [],
   "source": [
    "tri_allplots(df_coocc_sp3_vs_Sp_LD, \"(Sp-D, Sp-L) +\", \"co-occ_triple_Sp-LD_Raw-OC-JI-Dice-Z-T-LL.pdf\")"
   ]
  },
  {
   "cell_type": "code",
   "execution_count": null,
   "metadata": {},
   "outputs": [],
   "source": [
    "A = 'St_H'\n",
    "B = 'St_V'\n",
    "\n",
    "df_coocc_sp3_vs_St_HV = pd.DataFrame(\n",
    "    [co_occ_sp3_measures_vs_AB(A, B, 'Mono')[1:],\n",
    "     co_occ_sp3_measures_vs_AB(A, B, 'Bltc')[1:],\n",
    "     co_occ_sp3_measures_vs_AB(A, B, 'Sp_D')[1:],\n",
    "     co_occ_sp3_measures_vs_AB(A, B, 'Sp_L')[1:],\n",
    "     co_occ_sp3_measures_vs_AB(A, B, 'Maze')[1:],\n",
    "     co_occ_sp3_measures_vs_AB(A, B, 'St_D')[1:],\n",
    "     co_occ_sp3_measures_vs_AB(A, B, 'Sddl')[1:],\n",
    "     co_occ_sp3_measures_vs_AB(A, B, 'Eyes')[1:],\n",
    "     co_occ_sp3_measures_vs_AB(A, B, 'Area')[1:]],\n",
    "    index=[\"Mono\", \"Bltc\", 'Sp-D', 'Sp-L', 'Maze', 'St-D', 'Sddl', \"Eyes\", \"Area\"],\n",
    "    columns=['Freq', 'Jaccard', 'Dice', 'Simpson', 'Log-likelihood', 'Z-score', 'T-score']\n",
    ")\n",
    "\n",
    "tri_allplots(df_coocc_sp3_vs_St_HV, \"(St-H, St-V) +\", \"co-occ_triple_St-HV_Raw-OC-JI-Dice-Z-T-LL.pdf\")"
   ]
  },
  {
   "cell_type": "code",
   "execution_count": null,
   "metadata": {},
   "outputs": [],
   "source": [
    "A = 'St_H'\n",
    "B = 'St_D'\n",
    "\n",
    "df_coocc_sp3_vs_St_HD = pd.DataFrame(\n",
    "    [co_occ_sp3_measures_vs_AB(A, B, 'Mono')[1:],\n",
    "     co_occ_sp3_measures_vs_AB(A, B, 'Bltc')[1:],\n",
    "     co_occ_sp3_measures_vs_AB(A, B, 'Sp_D')[1:],\n",
    "     co_occ_sp3_measures_vs_AB(A, B, 'Sp_L')[1:],\n",
    "     co_occ_sp3_measures_vs_AB(A, B, 'Maze')[1:],\n",
    "     co_occ_sp3_measures_vs_AB(A, B, 'St_V')[1:],\n",
    "     co_occ_sp3_measures_vs_AB(A, B, 'Sddl')[1:],\n",
    "     co_occ_sp3_measures_vs_AB(A, B, 'Eyes')[1:],\n",
    "     co_occ_sp3_measures_vs_AB(A, B, 'Area')[1:]],\n",
    "    index=[\"Mono\", \"Bltc\", 'Sp-D', 'Sp-L', 'Maze', 'St-V', 'Sddl', \"Eyes\", \"Area\"],\n",
    "    columns=['Freq', 'Jaccard', 'Dice', 'Simpson', 'Log-likelihood', 'Z-score', 'T-score']\n",
    ")\n",
    "\n",
    "tri_allplots(df_coocc_sp3_vs_St_HD, \"(St-H, St-D) +\", \"co-occ_triple_St-HD_Raw-OC-JI-Dice-Z-T-LL.pdf\")"
   ]
  },
  {
   "cell_type": "code",
   "execution_count": null,
   "metadata": {},
   "outputs": [],
   "source": [
    "A = 'St_V'\n",
    "B = 'St_D'\n",
    "\n",
    "df_coocc_sp3_vs_St_VD = pd.DataFrame(\n",
    "    [co_occ_sp3_measures_vs_AB(A, B, 'Mono')[1:],\n",
    "     co_occ_sp3_measures_vs_AB(A, B, 'Bltc')[1:],\n",
    "     co_occ_sp3_measures_vs_AB(A, B, 'Sp_D')[1:],\n",
    "     co_occ_sp3_measures_vs_AB(A, B, 'Sp_L')[1:],\n",
    "     co_occ_sp3_measures_vs_AB(A, B, 'Maze')[1:],\n",
    "     co_occ_sp3_measures_vs_AB(A, B, 'St_H')[1:],\n",
    "     co_occ_sp3_measures_vs_AB(A, B, 'Sddl')[1:],\n",
    "     co_occ_sp3_measures_vs_AB(A, B, 'Eyes')[1:],\n",
    "     co_occ_sp3_measures_vs_AB(A, B, 'Area')[1:]],\n",
    "    index=[\"Mono\", \"Bltc\", 'Sp-D', 'Sp-L', 'Maze', 'St-H', 'Sddl', \"Eyes\", \"Area\"],\n",
    "    columns=['Freq', 'Jaccard', 'Dice', 'Simpson', 'Log-likelihood', 'Z-score', 'T-score']\n",
    ")\n",
    "\n",
    "tri_allplots(df_coocc_sp3_vs_St_VD, \"(St-V, St-D) +\", \"co-occ_triple_St-VD_Raw-OC-JI-Dice-Z-T-LL.pdf\")"
   ]
  },
  {
   "cell_type": "code",
   "execution_count": null,
   "metadata": {},
   "outputs": [],
   "source": [
    "A = 'St_H'\n",
    "B = 'Sp_D'\n",
    "\n",
    "df_coocc_sp3_vs_St_H_Sp_D = pd.DataFrame(\n",
    "    [co_occ_sp3_measures_vs_AB(A, B, 'Mono')[1:],\n",
    "     co_occ_sp3_measures_vs_AB(A, B, 'Bltc')[1:],\n",
    "     co_occ_sp3_measures_vs_AB(A, B, 'Sp_L')[1:],\n",
    "     co_occ_sp3_measures_vs_AB(A, B, 'Maze')[1:],\n",
    "     co_occ_sp3_measures_vs_AB(A, B, 'St_D')[1:],\n",
    "     co_occ_sp3_measures_vs_AB(A, B, 'St_V')[1:],\n",
    "     co_occ_sp3_measures_vs_AB(A, B, 'Sddl')[1:],\n",
    "     co_occ_sp3_measures_vs_AB(A, B, 'Eyes')[1:],\n",
    "     co_occ_sp3_measures_vs_AB(A, B, 'Area')[1:]],\n",
    "    index=[\"Mono\", \"Bltc\", 'Sp-L', 'Maze', 'St-D', 'St-V', 'Sddl', \"Eyes\", \"Area\"],\n",
    "    columns=['Freq', 'Jaccard', 'Dice', 'Simpson', 'Log-likelihood', 'Z-score', 'T-score']\n",
    ")\n",
    "\n",
    "tri_allplots(df_coocc_sp3_vs_St_HD, \"(St-H, Sp-D) +\", \"co-occ_triple_St-H_Sp-D_Raw-OC-JI-Dice-Z-T-LL.pdf\")"
   ]
  },
  {
   "cell_type": "code",
   "execution_count": null,
   "metadata": {},
   "outputs": [],
   "source": [
    "A = 'St_H'\n",
    "B = 'Sp_L'\n",
    "\n",
    "df_coocc_sp3_vs_St_H_Sp_L = pd.DataFrame(\n",
    "    [co_occ_sp3_measures_vs_AB(A, B, 'Mono')[1:],\n",
    "     co_occ_sp3_measures_vs_AB(A, B, 'Bltc')[1:],\n",
    "     co_occ_sp3_measures_vs_AB(A, B, 'Sp_D')[1:],\n",
    "     co_occ_sp3_measures_vs_AB(A, B, 'Maze')[1:],\n",
    "     co_occ_sp3_measures_vs_AB(A, B, 'St_D')[1:],\n",
    "     co_occ_sp3_measures_vs_AB(A, B, 'St_V')[1:],\n",
    "     co_occ_sp3_measures_vs_AB(A, B, 'Sddl')[1:],\n",
    "     co_occ_sp3_measures_vs_AB(A, B, 'Eyes')[1:],\n",
    "     co_occ_sp3_measures_vs_AB(A, B, 'Area')[1:]],\n",
    "    index=[\"Mono\", \"Bltc\", 'Sp-D', 'Maze', 'St-D', 'St-V', 'Sddl', \"Eyes\", \"Area\"],\n",
    "    columns=['Freq', 'Jaccard', 'Dice', 'Simpson', 'Log-likelihood', 'Z-score', 'T-score']\n",
    ")\n",
    "\n",
    "tri_allplots(df_coocc_sp3_vs_St_H_Sp_L, \"(St-H, Sp-L) +\", \"co-occ_triple_St-H_Sp-L_Raw-OC-JI-Dice-Z-T-LL.pdf\")"
   ]
  },
  {
   "cell_type": "code",
   "execution_count": null,
   "metadata": {},
   "outputs": [],
   "source": [
    "A = 'St_V'\n",
    "B = 'Sp_D'\n",
    "\n",
    "df_coocc_sp3_vs_St_V_Sp_D = pd.DataFrame(\n",
    "    [co_occ_sp3_measures_vs_AB(A, B, 'Mono')[1:],\n",
    "     co_occ_sp3_measures_vs_AB(A, B, 'Bltc')[1:],\n",
    "     co_occ_sp3_measures_vs_AB(A, B, 'Sp_L')[1:],\n",
    "     co_occ_sp3_measures_vs_AB(A, B, 'Maze')[1:],\n",
    "     co_occ_sp3_measures_vs_AB(A, B, 'St_H')[1:],\n",
    "     co_occ_sp3_measures_vs_AB(A, B, 'St_D')[1:],\n",
    "     co_occ_sp3_measures_vs_AB(A, B, 'Sddl')[1:],\n",
    "     co_occ_sp3_measures_vs_AB(A, B, 'Eyes')[1:],\n",
    "     co_occ_sp3_measures_vs_AB(A, B, 'Area')[1:]],\n",
    "    index=[\"Mono\", \"Bltc\", 'Sp-L', 'Maze', 'St-H', 'St-D', 'Sddl', \"Eyes\", \"Area\"],\n",
    "    columns=['Freq', 'Jaccard', 'Dice', 'Simpson', 'Log-likelihood', 'Z-score', 'T-score']\n",
    ")\n",
    "\n",
    "tri_allplots(df_coocc_sp3_vs_St_V_Sp_D, \"(St-V, Sp-D) +\", \"co-occ_triple_St-V_Sp-D_Raw-OC-JI-Dice-Z-T-LL.pdf\")"
   ]
  },
  {
   "cell_type": "code",
   "execution_count": null,
   "metadata": {},
   "outputs": [],
   "source": [
    "A = 'St_V'\n",
    "B = 'Sp_L'\n",
    "\n",
    "df_coocc_sp3_vs_St_V_Sp_L = pd.DataFrame(\n",
    "    [co_occ_sp3_measures_vs_AB(A, B, 'Mono')[1:],\n",
    "     co_occ_sp3_measures_vs_AB(A, B, 'Bltc')[1:],\n",
    "     co_occ_sp3_measures_vs_AB(A, B, 'Sp_D')[1:],\n",
    "     co_occ_sp3_measures_vs_AB(A, B, 'Maze')[1:],\n",
    "     co_occ_sp3_measures_vs_AB(A, B, 'St_H')[1:],\n",
    "     co_occ_sp3_measures_vs_AB(A, B, 'St_D')[1:],\n",
    "     co_occ_sp3_measures_vs_AB(A, B, 'Sddl')[1:],\n",
    "     co_occ_sp3_measures_vs_AB(A, B, 'Eyes')[1:],\n",
    "     co_occ_sp3_measures_vs_AB(A, B, 'Area')[1:]],\n",
    "    index=[\"Mono\", \"Bltc\", 'Sp-D', 'Maze', 'St-H', 'St-D','Sddl', \"Eyes\", \"Area\"],\n",
    "    columns=['Freq', 'Jaccard', 'Dice', 'Simpson', 'Log-likelihood', 'Z-score', 'T-score']\n",
    ")\n",
    "\n",
    "tri_allplots(df_coocc_sp3_vs_St_V_Sp_L, \"(St-V, Sp-L) +\", \"co-occ_triple_St-V_Sp-L_Raw-OC-JI-Dice-Z-T-LL.pdf\")"
   ]
  },
  {
   "cell_type": "code",
   "execution_count": null,
   "metadata": {},
   "outputs": [],
   "source": []
  }
 ],
 "metadata": {
  "kernelspec": {
   "display_name": "Environment (conda_anaconda3)",
   "language": "python",
   "name": "conda_anaconda3"
  },
  "language_info": {
   "codemirror_mode": {
    "name": "ipython",
    "version": 3
   },
   "file_extension": ".py",
   "mimetype": "text/x-python",
   "name": "python",
   "nbconvert_exporter": "python",
   "pygments_lexer": "ipython3",
   "version": "3.6.7"
  }
 },
 "nbformat": 4,
 "nbformat_minor": 2
}
