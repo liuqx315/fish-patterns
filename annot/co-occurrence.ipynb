{
 "cells": [
  {
   "cell_type": "markdown",
   "metadata": {},
   "source": [
    "# Co-occurrence analysis\n",
    "\n",
    "### code for Fig. 1c etc."
   ]
  },
  {
   "cell_type": "code",
   "execution_count": null,
   "metadata": {},
   "outputs": [],
   "source": [
    "import numpy as np\n",
    "import pandas as pd\n",
    "from scipy.stats import chi2_contingency\n",
    "\n",
    "import matplotlib.pyplot as plt\n",
    "import seaborn as sns\n",
    "from matplotlib_venn import *\n",
    "\n",
    "import networkx as nx\n",
    "\n",
    "% matplotlib inline"
   ]
  },
  {
   "cell_type": "code",
   "execution_count": null,
   "metadata": {},
   "outputs": [],
   "source": [
    "df0 = pd.read_csv('fish-patterns-db-img.csv')"
   ]
  },
  {
   "cell_type": "code",
   "execution_count": null,
   "metadata": {},
   "outputs": [],
   "source": [
    "print(len(set(df0['family'])), \" families\")\n",
    "print(len(set(df0['genus'])), \" genera\")\n",
    "print(len(set(df0['species'])), \" species\")\n",
    "print(len(df0), \"images\")"
   ]
  },
  {
   "cell_type": "code",
   "execution_count": null,
   "metadata": {
    "scrolled": true
   },
   "outputs": [],
   "source": [
    "df_sp = df0.groupby(['genus', 'species']).sum().applymap(lambda x: 1 if x>0 else 0)\n",
    "spnum = df_sp.reset_index().groupby('genus').count()['species'].rename('sp_num')\n",
    "df_gen = df_sp.groupby(['genus']).sum().applymap(lambda x: 1 if x>0 else 0)\n",
    "\n",
    "df_gen_spnum = pd.merge(spnum.to_frame(), df_gen, on='genus')\n",
    "df_gen_sp2 = df_gen[df_gen_spnum['sp_num']>=2]\n",
    "print(len(df_gen_sp2), \" genera (incl. >=2 sp.)\")\n",
    "\n",
    "df_gen_sp3 = df_gen[df_gen_spnum['sp_num']>=3]\n",
    "print(len(df_gen_sp3), \" genera (incl. >=3 sp.)\")\n"
   ]
  },
  {
   "cell_type": "code",
   "execution_count": null,
   "metadata": {},
   "outputs": [],
   "source": [
    "df_gen_comat = df_gen.T.dot(df_gen)\n",
    "df_gen_comat"
   ]
  },
  {
   "cell_type": "code",
   "execution_count": null,
   "metadata": {},
   "outputs": [],
   "source": [
    "df_gen_sp2_comat = df_gen_sp2.T.dot(df_gen_sp2)\n",
    "df_gen_sp2_comat"
   ]
  },
  {
   "cell_type": "code",
   "execution_count": null,
   "metadata": {},
   "outputs": [],
   "source": [
    "df_gen_sp3_comat = df_gen_sp3.T.dot(df_gen_sp3)\n",
    "df_gen_sp3_comat"
   ]
  },
  {
   "cell_type": "markdown",
   "metadata": {},
   "source": [
    "### contingency table\n",
    "\n",
    "| patterns      |B absent (0) |B present (1) |\n",
    "|:-------------:|:-----------:|:------------:|\n",
    "| A absent  (0) |O<sub>00</sub>|O<sub>01</sub>|A0\n",
    "| A present (1) |O<sub>10</sub>|O<sub>11</sub>|A1\n",
    "|               |B0            |B1            |N"
   ]
  },
  {
   "cell_type": "code",
   "execution_count": null,
   "metadata": {},
   "outputs": [],
   "source": [
    "ptns = [\"Mono\",\n",
    "        \"Bltc\",\n",
    "        \"Sp_D\",\n",
    "        \"Sp_L\",\n",
    "        \"Maze\",\n",
    "        \"St_H\",\n",
    "        \"St_D\",\n",
    "        \"St_V\",\n",
    "        \"Sddl\",\n",
    "        \"Eyes\",\n",
    "        \"Area\"]\n",
    "\n",
    "labels = [\"Mono\",\n",
    "          \"Bltc\",\n",
    "          \"Sp-D\",\n",
    "          \"Sp-L\",\n",
    "          \"Maze\",\n",
    "          \"St-H\",\n",
    "          \"St-D\",\n",
    "          \"St-V\",\n",
    "          \"Sddl\",\n",
    "          \"Eyes\",\n",
    "          \"Area\"]\n",
    "\n",
    "colors = [\"silver\",\n",
    "          \"dimgray\",\n",
    "          \"#35A16B\",\n",
    "          \"orange\",\n",
    "          \"#FAF500\",\n",
    "          \"turquoise\",\n",
    "          \"royalblue\",\n",
    "          \"darkslateblue\",\n",
    "          \"mediumorchid\",\n",
    "          \"pink\",\n",
    "          \"sienna\"]\n"
   ]
  },
  {
   "cell_type": "code",
   "execution_count": null,
   "metadata": {},
   "outputs": [],
   "source": [
    "def contingency_mat(ptnA, ptnB):\n",
    "    n = len(df_gen_sp2)\n",
    "    nA = df_gen_sp2_comat.loc[ptnA, ptnA]\n",
    "    nB = df_gen_sp2_comat.loc[ptnB, ptnB]\n",
    "    kAB = df_gen_sp2_comat.loc[ptnA, ptnB]\n",
    "\n",
    "    obs = np.array([[n-kAB-(nA-kAB)-(nB-kAB), nB-kAB], [nA-kAB, kAB]])\n",
    "    return obs\n"
   ]
  },
  {
   "cell_type": "code",
   "execution_count": null,
   "metadata": {},
   "outputs": [],
   "source": [
    "# Jaccard index\n",
    "df_gen_Jaccard = df_gen_sp2_comat.copy()\n",
    "\n",
    "# Sørensen-Dice coefficient\n",
    "df_gen_Dice = df_gen_sp2_comat.copy()\n",
    "\n",
    "# log-likelihood\n",
    "df_gen_LL = df_gen_sp2_comat.copy()\n",
    "\n",
    "# Z-score (Dennis1965)\n",
    "df_gen_Z = df_gen_sp2_comat.copy()\n",
    "\n",
    "for i in range(11):\n",
    "    for j in range(11):\n",
    "        obs = contingency_mat(ptns[i], ptns[j])\n",
    "\n",
    "        N = obs[1,1] + obs[1,0] + obs[0,1] + obs[0,0]\n",
    "        A1 = obs[1,1] + obs[1,0]\n",
    "        A0 = obs[0,1] + obs[0,0]\n",
    "        B1 = obs[1,1] + obs[0,1]\n",
    "        B0 = obs[1,0] + obs[0,0]\n",
    "        \n",
    "        df_gen_Jaccard.loc[ptns[i], ptns[j]] = obs[1, 1]/(obs[1, 1]+obs[1, 0]+obs[0, 1])\n",
    "        df_gen_Dice.loc[ptns[i], ptns[j]] = 2*obs[1, 1]/(obs[1, 1]+obs[1, 0]+obs[1, 1] + obs[0, 1])\n",
    "        \n",
    "        LL, p, dof, ex = chi2_contingency(obs, correction=False, lambda_='log-likelihood')\n",
    "        df_gen_LL.loc[ptns[i], ptns[j]] = LL\n",
    "        \n",
    "        # df_gen_Z.loc[ptns[i], ptns[j]] = (obs[1, 1] - ex[1, 1]) / np.sqrt(ex[1, 1]*(1-(A1*B1/N**2)))\n",
    "        df_gen_Z.loc[ptns[i], ptns[j]] = (obs[1, 1] - ex[1, 1]) / np.sqrt(ex[1, 1])\n",
    "        "
   ]
  },
  {
   "cell_type": "markdown",
   "metadata": {},
   "source": [
    "### Jaccard index"
   ]
  },
  {
   "cell_type": "code",
   "execution_count": null,
   "metadata": {},
   "outputs": [],
   "source": [
    "df_gen_Jaccard"
   ]
  },
  {
   "cell_type": "code",
   "execution_count": null,
   "metadata": {
    "scrolled": false
   },
   "outputs": [],
   "source": [
    "sns.set_context('talk')\n",
    "plt.figure(figsize=(15, 12))\n",
    "\n",
    "mask = np.eye(df_gen_Jaccard.shape[0], dtype=np.bool)\n",
    "ax = sns.heatmap(df_gen_Jaccard, mask=mask, vmax = 0.40, square=True, fmt='.2f', annot=True, linewidth=1.0, cmap='Purples', rasterized=True)\n",
    "plt.title('Jaccard index', fontsize=24)\n",
    "\n",
    "ax.set_xticklabels(labels, rotation=0, fontsize=22)\n",
    "ax.set_yticklabels(labels, rotation=0, fontsize=22)\n",
    "\n",
    "plt.show()"
   ]
  },
  {
   "cell_type": "code",
   "execution_count": null,
   "metadata": {},
   "outputs": [],
   "source": [
    "sns.set(style=\"white\", context=\"talk\")\n",
    "fig = plt.figure(figsize=(8, 8))\n",
    "ax = fig.add_subplot(111)\n",
    "\n",
    "G = nx.Graph()\n",
    "\n",
    "for i in range(11):\n",
    "    G.add_node(labels[i])\n",
    "    \n",
    "for i in range(11):\n",
    "    for j in range(11):\n",
    "        if (i!=j):\n",
    "            if df_gen_Jaccard.iloc[i,j] >= 0.12:\n",
    "                G.add_edge(labels[i], labels[j], weight=df_gen_Jaccard.iloc[i,j])\n",
    "\n",
    "edge_Ws = np.array([edge[2]['weight'] for edge in G.edges(data=True)])\n",
    "\n",
    "pos = nx.circular_layout(G, scale=0.8)\n",
    "\n",
    "nx.draw_networkx_nodes(G, pos, node_shape='o', node_size=500, node_color='white', linewidths=5.0, edgecolors=colors)\n",
    "nx.draw_networkx_edges(G, pos,\n",
    "                       width=15*edge_Ws/max(edge_Ws),\n",
    "                       alpha=0.8,\n",
    "                       edge_cmap=plt.cm.Purples,\n",
    "                       edge_vmin=0.0,\n",
    "                       edge_vmax=max(edge_Ws),\n",
    "                       edge_color=edge_Ws)\n",
    "\n",
    "# nx.draw_networkx_labels(G, pos, font_size=16)\n",
    "\n",
    "plt.axis('off')\n",
    "plt.show()\n",
    "# plt.savefig('temp_Jaccard.svg', transparent=True)"
   ]
  },
  {
   "cell_type": "markdown",
   "metadata": {},
   "source": [
    "### Sørensen–Dice coefficient"
   ]
  },
  {
   "cell_type": "code",
   "execution_count": null,
   "metadata": {},
   "outputs": [],
   "source": [
    "df_gen_Dice"
   ]
  },
  {
   "cell_type": "code",
   "execution_count": null,
   "metadata": {
    "scrolled": false
   },
   "outputs": [],
   "source": [
    "sns.set_context('talk')\n",
    "plt.figure(figsize=(15, 12))\n",
    "\n",
    "mask = np.eye(df_gen_Dice.shape[0], dtype=np.bool)\n",
    "ax = sns.heatmap(df_gen_Dice, mask=mask, vmax = 0.6, square=True, fmt='.2f', annot=True, linewidth=1.0, cmap='Blues', rasterized=True)\n",
    "plt.title('Sørensen–Dice coefficient', fontsize=24)\n",
    "\n",
    "ax.set_xticklabels(labels, rotation=0, fontsize=22)\n",
    "ax.set_yticklabels(labels, rotation=0, fontsize=22)\n",
    "\n",
    "plt.show()"
   ]
  },
  {
   "cell_type": "code",
   "execution_count": null,
   "metadata": {},
   "outputs": [],
   "source": [
    "sns.set(style=\"white\", context=\"talk\")\n",
    "fig = plt.figure(figsize=(8, 8))\n",
    "ax = fig.add_subplot(111)\n",
    "\n",
    "G = nx.Graph()\n",
    "\n",
    "for i in range(11):\n",
    "    G.add_node(labels[i])\n",
    "    \n",
    "for i in range(11):\n",
    "    for j in range(11):\n",
    "        if (i!=j):\n",
    "            if df_gen_Dice.iloc[i,j] >= 0.25:\n",
    "                G.add_edge(labels[i], labels[j], weight=df_gen_Dice.iloc[i,j])\n",
    "\n",
    "edge_Ws = np.array([edge[2]['weight'] for edge in G.edges(data=True)])\n",
    "\n",
    "pos = nx.circular_layout(G, scale=0.8)\n",
    "\n",
    "nx.draw_networkx_nodes(G, pos, node_shape='o', node_size=500, node_color='white', linewidths=5.0, edgecolors=colors)\n",
    "nx.draw_networkx_edges(G, pos,\n",
    "                       width=15*edge_Ws/max(edge_Ws),\n",
    "                       alpha=0.8,\n",
    "                       edge_cmap=plt.cm.Blues,\n",
    "                       edge_vmin=0.0,\n",
    "                       edge_vmax=max(edge_Ws),\n",
    "                       edge_color=edge_Ws)\n",
    "\n",
    "# nx.draw_networkx_labels(G, pos, font_size=16)\n",
    "\n",
    "plt.axis('off')\n",
    "plt.show()\n",
    "# plt.savefig('temp_Dice.svg', transparent=True)"
   ]
  },
  {
   "cell_type": "markdown",
   "metadata": {},
   "source": [
    "### Log-likelihood"
   ]
  },
  {
   "cell_type": "code",
   "execution_count": null,
   "metadata": {
    "scrolled": true
   },
   "outputs": [],
   "source": [
    "df_gen_LL"
   ]
  },
  {
   "cell_type": "code",
   "execution_count": null,
   "metadata": {
    "scrolled": false
   },
   "outputs": [],
   "source": [
    "sns.set_context('talk')\n",
    "plt.figure(figsize=(15, 12))\n",
    "\n",
    "mask = np.eye(df_gen_LL.shape[0], dtype=np.bool)\n",
    "ax = sns.heatmap(df_gen_LL, mask=mask, vmax = 270, square=True, fmt='.1f', annot=True, linewidth=1.0, cmap='Reds', rasterized=True)\n",
    "plt.title('Log-likelihood', fontsize=24)\n",
    "\n",
    "ax.set_xticklabels(labels, rotation=0, fontsize=22)\n",
    "ax.set_yticklabels(labels, rotation=0, fontsize=22)\n",
    "\n",
    "plt.show()"
   ]
  },
  {
   "cell_type": "code",
   "execution_count": null,
   "metadata": {},
   "outputs": [],
   "source": [
    "sns.set(style=\"white\", context=\"talk\")\n",
    "fig = plt.figure(figsize=(8, 8))\n",
    "ax = fig.add_subplot(111)\n",
    "\n",
    "G = nx.Graph()\n",
    "\n",
    "for i in range(11):\n",
    "    G.add_node(labels[i])\n",
    "    \n",
    "for i in range(11):\n",
    "    for j in range(11):\n",
    "        if (i!=j):\n",
    "            # if df_gen_LL.iloc[i,j] >= 6.63:      # p<=0.01\n",
    "            if df_gen_LL.iloc[i,j] >= 3.84:      # p<=0.05\n",
    "                G.add_edge(labels[i], labels[j], weight=df_gen_LL.iloc[i,j])\n",
    "\n",
    "edge_Ws = np.array([edge[2]['weight'] for edge in G.edges(data=True)])\n",
    "\n",
    "pos = nx.circular_layout(G, scale=0.8)\n",
    "\n",
    "nx.draw_networkx_nodes(G, pos, node_shape='o', node_size=500, node_color='white', linewidths=5.0, edgecolors=colors)\n",
    "nx.draw_networkx_edges(G, pos,\n",
    "                       width=15*edge_Ws/max(edge_Ws),\n",
    "                       alpha=0.8,\n",
    "                       edge_cmap=plt.cm.Reds,\n",
    "                       edge_vmin=0.0,\n",
    "                       edge_vmax=max(edge_Ws),\n",
    "                       edge_color=edge_Ws)\n",
    "\n",
    "# nx.draw_networkx_labels(G, pos, font_size=16)\n",
    "\n",
    "plt.axis('off')\n",
    "plt.show()\n",
    "# plt.savefig('temp_LL.svg', transparent=True)"
   ]
  },
  {
   "cell_type": "markdown",
   "metadata": {},
   "source": [
    "### Z-score (Dennis1965)"
   ]
  },
  {
   "cell_type": "code",
   "execution_count": null,
   "metadata": {},
   "outputs": [],
   "source": [
    "df_gen_Z"
   ]
  },
  {
   "cell_type": "code",
   "execution_count": null,
   "metadata": {
    "scrolled": false
   },
   "outputs": [],
   "source": [
    "sns.set_context('talk')\n",
    "plt.figure(figsize=(15, 12))\n",
    "\n",
    "mask = np.eye(df_gen_Z.shape[0], dtype=np.bool)\n",
    "ax = sns.heatmap(df_gen_Z, mask=mask, vmax = 12.5, square=True, fmt='.1f', annot=True, linewidth=1.0, cmap='Greens', rasterized=True)\n",
    "plt.title('Z-score (Dennis1965)', fontsize=24)\n",
    "\n",
    "ax.set_xticklabels(labels, rotation=0, fontsize=22)\n",
    "ax.set_yticklabels(labels, rotation=0, fontsize=22)\n",
    "\n",
    "plt.show()"
   ]
  },
  {
   "cell_type": "code",
   "execution_count": null,
   "metadata": {},
   "outputs": [],
   "source": [
    "sns.set(style=\"white\", context=\"talk\")\n",
    "fig = plt.figure(figsize=(8, 8))\n",
    "ax = fig.add_subplot(111)\n",
    "\n",
    "G = nx.Graph()\n",
    "\n",
    "for i in range(11):\n",
    "    G.add_node(labels[i])\n",
    "    \n",
    "for i in range(11):\n",
    "    for j in range(11):\n",
    "        if (i!=j):\n",
    "            # if df_gen_Z.iloc[i,j] >= 2.58:     # p<0.01\n",
    "            if df_gen_Z.iloc[i,j] >= 1.96:     # p<0.05\n",
    "                G.add_edge(labels[i], labels[j], weight=df_gen_Z.iloc[i,j])\n",
    "\n",
    "edge_Ws = np.array([edge[2]['weight'] for edge in G.edges(data=True)])\n",
    "\n",
    "pos = nx.circular_layout(G, scale=0.8)\n",
    "\n",
    "nx.draw_networkx_nodes(G, pos, node_shape='o', node_size=500, node_color='white', linewidths=5.0, edgecolors=colors)\n",
    "nx.draw_networkx_edges(G, pos,\n",
    "                       width=15*edge_Ws/max(edge_Ws),\n",
    "                       alpha=0.8,\n",
    "                       edge_cmap=plt.cm.Greens,\n",
    "                       edge_vmin=0.0,\n",
    "                       edge_vmax=max(edge_Ws),\n",
    "                       edge_color=edge_Ws)\n",
    "\n",
    "# nx.draw_networkx_labels(G, pos, font_size=16)\n",
    "\n",
    "plt.axis('off')\n",
    "plt.show()\n",
    "# plt.savefig('temp_Z.svg', transparent=True)"
   ]
  },
  {
   "cell_type": "code",
   "execution_count": null,
   "metadata": {},
   "outputs": [],
   "source": [
    "from mpl_toolkits.axes_grid1.axes_divider import make_axes_locatable\n",
    "from mpl_toolkits.axes_grid1.colorbar import colorbar\n",
    "\n",
    "sns.set_context('talk')\n",
    "plt.figure(figsize=(15, 12))\n",
    "\n",
    "mask_u = np.eye(df_gen_LL.shape[0], dtype=np.bool)\n",
    "mask_l = np.eye(df_gen_LL.shape[0], dtype=np.bool)\n",
    "mask_u[np.triu_indices_from(mask_u)] = True\n",
    "mask_l[np.tril_indices_from(mask_l)] = True\n",
    "\n",
    "ax = sns.heatmap(df_gen_Jaccard,\n",
    "                 mask=mask_u,\n",
    "                 vmax=0.35, \n",
    "                 square=True,\n",
    "                 linewidth=0.0,\n",
    "                 cmap='Purples',\n",
    "                 cbar=False)\n",
    "\n",
    "sns.heatmap(df_gen_LL,\n",
    "            mask=mask_l,\n",
    "            vmax=270, \n",
    "            square=True,\n",
    "            linewidth=0.0,\n",
    "            ax=ax,\n",
    "            cmap='Reds',\n",
    "            cbar=False)\n",
    "\n",
    "ax_divider = make_axes_locatable(ax)\n",
    "cax1 = ax_divider.append_axes('bottom', size='5%', pad='5%')\n",
    "cax2 = ax_divider.append_axes('right', size='5%', pad='5%')\n",
    "\n",
    "cbar1 = colorbar(ax.get_children()[0], cax=cax1, orientation='horizontal')\n",
    "cbar1.solids.set_rasterized(True)\n",
    "cax1.set_xlabel('Jaccard', fontsize=28)\n",
    "cax1.yaxis.set_label_position('right')\n",
    "cax1.tick_params(length=0)\n",
    "\n",
    "cbar2 = colorbar(ax.get_children()[1], cax=cax2, orientation='vertical')\n",
    "cbar2.solids.set_rasterized(True)\n",
    "cax2.set_ylabel('Log-likelihood', fontsize=28)\n",
    "cax2.xaxis.set_label_position('bottom')\n",
    "cax2.tick_params(length=0)\n",
    "\n",
    "for i in range(10):\n",
    "    ax.axhline(i+1, linewidth=2.0, color='black')\n",
    "    ax.axvline(10-i, linewidth=2.0, color='black')\n",
    "    \n",
    "    \n",
    "# ax.hlines([1, 2], *ax.get_xlim())\n",
    "ax.xaxis.set_ticks_position('top')\n",
    "ax.set_xticklabels(labels, fontsize=24, rotation=60)\n",
    "ax.set_yticklabels(labels, fontsize=24, rotation=0)\n",
    "\n",
    "plt.show()\n",
    "# plt.savefig(\"co-occ_JI-LL.svg\")\n"
   ]
  },
  {
   "cell_type": "code",
   "execution_count": null,
   "metadata": {},
   "outputs": [],
   "source": [
    "from mpl_toolkits.axes_grid1.axes_divider import make_axes_locatable\n",
    "from mpl_toolkits.axes_grid1.colorbar import colorbar\n",
    "\n",
    "sns.set_context('talk')\n",
    "plt.figure(figsize=(15, 12))\n",
    "\n",
    "mask_u = np.eye(df_gen_Dice.shape[0], dtype=np.bool)\n",
    "mask_l = np.eye(df_gen_Dice.shape[0], dtype=np.bool)\n",
    "mask_u[np.triu_indices_from(mask_u)] = True\n",
    "mask_l[np.tril_indices_from(mask_l)] = True\n",
    "\n",
    "ax = sns.heatmap(df_gen_Dice,\n",
    "                 mask=mask_u,\n",
    "                 vmax=0.50, \n",
    "                 square=True,\n",
    "                 linewidth=0.0,\n",
    "                 cmap='Blues',\n",
    "                 cbar=False)\n",
    "\n",
    "sns.heatmap(df_gen_Z,\n",
    "            mask=mask_l,\n",
    "            vmax=12.5, \n",
    "            square=True,\n",
    "            linewidth=0.0,\n",
    "            ax=ax,\n",
    "            cmap='Greens',\n",
    "            cbar=False)\n",
    "\n",
    "ax_divider = make_axes_locatable(ax)\n",
    "cax1 = ax_divider.append_axes('bottom', size='5%', pad='5%')\n",
    "cax2 = ax_divider.append_axes('right', size='5%', pad='5%')\n",
    "\n",
    "cbar1 = colorbar(ax.get_children()[0], cax=cax1, orientation='horizontal')\n",
    "cbar1.solids.set_rasterized(True)\n",
    "cax1.set_xlabel('Dice', fontsize=28)\n",
    "cax1.yaxis.set_label_position('right')\n",
    "cax1.tick_params(length=0)\n",
    "\n",
    "cbar2 = colorbar(ax.get_children()[1], cax=cax2, orientation='vertical')\n",
    "cbar2.solids.set_rasterized(True)\n",
    "cax2.set_ylabel('Z-score', fontsize=28)\n",
    "cax2.xaxis.set_label_position('bottom')\n",
    "cax2.tick_params(length=0)\n",
    "\n",
    "for i in range(10):\n",
    "    ax.axhline(i+1, linewidth=2.0, color='black')\n",
    "    ax.axvline(10-i, linewidth=2.0, color='black')\n",
    "    \n",
    "    \n",
    "# ax.hlines([1, 2], *ax.get_xlim())\n",
    "ax.xaxis.set_ticks_position('top')\n",
    "ax.set_xticklabels(labels, fontsize=24, rotation=60)\n",
    "ax.set_yticklabels(labels, fontsize=24, rotation=0)\n",
    "\n",
    "plt.show()\n",
    "# plt.savefig(\"co-occ_Dice-Z.svg\")\n"
   ]
  },
  {
   "cell_type": "code",
   "execution_count": null,
   "metadata": {},
   "outputs": [],
   "source": []
  },
  {
   "cell_type": "markdown",
   "metadata": {},
   "source": [
    "## Triple co-occurrence analysis\n",
    "### (Sp_L & Sp_D) vs pattern C"
   ]
  },
  {
   "cell_type": "code",
   "execution_count": null,
   "metadata": {},
   "outputs": [],
   "source": [
    "def co_occ_sp3_measures_vs_AB(A='Sp_L', B='Sp_D', C='Maze'):\n",
    "    ABC = len(df_gen_sp3[(df_gen_sp3[A]==1) & (df_gen_sp3[B]==1) & (df_gen_sp3[C]==1)])\n",
    "    abC = len(df_gen_sp3[((df_gen_sp3[A]==0) | (df_gen_sp3[B]==0)) & (df_gen_sp3[C]==1)])\n",
    "    ABc = len(df_gen_sp3[(df_gen_sp3[A]==1) & (df_gen_sp3[B]==1) & (df_gen_sp3[C]==0)])\n",
    "    abc = len(df_gen_sp3[((df_gen_sp3[A]==0) | (df_gen_sp3[B]==0)) & (df_gen_sp3[C]==0)])\n",
    "\n",
    "    cntmat = np.array([[ABC, abC], [ABc, abc]])\n",
    "\n",
    "    jaccard = ABC/(ABC + abC + ABc)\n",
    "    dice = 2*ABC/((ABC+abC) + (ABC+ABc))\n",
    "\n",
    "    LL, p, dof, ex = chi2_contingency(cntmat, correction=False, lambda_='log-likelihood')\n",
    "    zscore = (ABC - ex[0, 0]) / np.sqrt(ex[0, 0])\n",
    "\n",
    "    return cntmat, jaccard, dice, LL, zscore"
   ]
  },
  {
   "cell_type": "code",
   "execution_count": null,
   "metadata": {},
   "outputs": [],
   "source": [
    "A = 'Sp_L'\n",
    "B = 'Sp_D'\n",
    "\n",
    "df_coocc_sp3_vs_Sp_LD = pd.DataFrame(\n",
    "    [co_occ_sp3_measures_vs_AB(A, B, 'Mono')[1:],\n",
    "     co_occ_sp3_measures_vs_AB(A, B, 'Bltc')[1:],\n",
    "     co_occ_sp3_measures_vs_AB(A, B, 'Maze')[1:],\n",
    "     co_occ_sp3_measures_vs_AB(A, B, 'St_H')[1:],\n",
    "     co_occ_sp3_measures_vs_AB(A, B, 'St_D')[1:],\n",
    "     co_occ_sp3_measures_vs_AB(A, B, 'St_V')[1:],\n",
    "     co_occ_sp3_measures_vs_AB(A, B, 'Sddl')[1:],\n",
    "     co_occ_sp3_measures_vs_AB(A, B, 'Eyes')[1:],\n",
    "     co_occ_sp3_measures_vs_AB(A, B, 'Area')[1:]],\n",
    "    index=[\"Mono\", \"Bltc\", 'Maze', 'St-H', 'St-D', 'St-V', 'Sddl', \"Eyes\", \"Area\"],\n",
    "    columns=['Jaccard', 'Dice', 'Log-likelihood', 'Z-score']\n",
    ")\n"
   ]
  },
  {
   "cell_type": "code",
   "execution_count": null,
   "metadata": {},
   "outputs": [],
   "source": [
    "df_coocc_sp3_vs_Sp_LD"
   ]
  },
  {
   "cell_type": "code",
   "execution_count": null,
   "metadata": {},
   "outputs": [],
   "source": [
    "sns.set_context(\"talk\")\n",
    "sns.set_style(\"ticks\")\n",
    "\n",
    "fig, axes = plt.subplots(1, 4, figsize=(10, 4), sharey=True)\n",
    "\n",
    "sns.barplot(x=df_coocc_sp3_vs_Sp_LD['Jaccard'].iloc[::-1],\n",
    "            y=df_coocc_sp3_vs_Sp_LD['Jaccard'].iloc[::-1].index,\n",
    "            color=sns.color_palette('Purples')[3],\n",
    "            ax=axes[0])\n",
    "axes[0].set_xlabel(\"Jaccard\")\n",
    "\n",
    "sns.barplot(x=df_coocc_sp3_vs_Sp_LD['Dice'].iloc[::-1],\n",
    "            y=df_coocc_sp3_vs_Sp_LD['Dice'].iloc[::-1].index,\n",
    "            color=sns.color_palette('Blues')[3],\n",
    "            ax=axes[1])\n",
    "axes[1].set_xlabel(\"Dice\")\n",
    "\n",
    "sns.barplot(x=df_coocc_sp3_vs_Sp_LD['Z-score'].iloc[::-1],\n",
    "            y=df_coocc_sp3_vs_Sp_LD['Z-score'].iloc[::-1].index,\n",
    "            color=sns.color_palette('Greens')[3],\n",
    "            ax=axes[2])\n",
    "axes[2].set_xlabel(\"Z-score\")\n",
    "\n",
    "sns.barplot(x=df_coocc_sp3_vs_Sp_LD['Log-likelihood'].iloc[::-1],\n",
    "            y=df_coocc_sp3_vs_Sp_LD['Log-likelihood'].iloc[::-1].index,\n",
    "            color=sns.color_palette('Reds')[3],\n",
    "            ax=axes[3])\n",
    "axes[3].set_xlabel(\"Log-likelihood\")\n",
    "\n",
    "\n",
    "plt.ylim(-0.6, 8.6)\n",
    "plt.yticks=True\n",
    "plt.setp(axes[3].yaxis.get_majorticklabels(), rotation=90)\n",
    "\n",
    "plt.show()\n",
    "# plt.savefig('co-occ_triple_Jaccard-Dice-Z-LL.svg')"
   ]
  },
  {
   "cell_type": "code",
   "execution_count": null,
   "metadata": {},
   "outputs": [],
   "source": []
  }
 ],
 "metadata": {
  "kernelspec": {
   "display_name": "Environment (conda_anaconda3)",
   "language": "python",
   "name": "conda_anaconda3"
  },
  "language_info": {
   "codemirror_mode": {
    "name": "ipython",
    "version": 3
   },
   "file_extension": ".py",
   "mimetype": "text/x-python",
   "name": "python",
   "nbconvert_exporter": "python",
   "pygments_lexer": "ipython3",
   "version": "3.6.7"
  }
 },
 "nbformat": 4,
 "nbformat_minor": 2
}
